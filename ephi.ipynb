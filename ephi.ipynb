{
  "nbformat": 4,
  "nbformat_minor": 0,
  "metadata": {
    "colab": {
      "provenance": []
    },
    "kernelspec": {
      "name": "python3",
      "display_name": "Python 3"
    },
    "language_info": {
      "name": "python"
    }
  },
  "cells": [
    {
      "cell_type": "code",
      "execution_count": 205,
      "metadata": {
        "colab": {
          "base_uri": "https://localhost:8080/"
        },
        "id": "-msLlDaHHBjn",
        "outputId": "7cb63a49-aa15-42e8-db3d-05fe62cad708"
      },
      "outputs": [
        {
          "output_type": "stream",
          "name": "stdout",
          "text": [
            "Drive already mounted at /content/drive; to attempt to forcibly remount, call drive.mount(\"/content/drive\", force_remount=True).\n"
          ]
        }
      ],
      "source": [
        "from google.colab import drive\n",
        "drive.mount('/content/drive')"
      ]
    },
    {
      "cell_type": "markdown",
      "source": [
        "**Part II: Problem Solving Section:**\n",
        "\n",
        "\n",
        "1. **Preprocessing and EDA**: Based on the given dataset(champs.csv) and the\n",
        "decoded variables in table 1, do the following preprocessing and Exploratory\n",
        "Data Analysis (EDA):\n",
        "\n",
        "\n",
        "\n",
        "\n",
        "\n",
        "\n"
      ],
      "metadata": {
        "id": "TeinHkIsEaoq"
      }
    },
    {
      "cell_type": "markdown",
      "source": [
        "**Importing important libraries**"
      ],
      "metadata": {
        "id": "fpAzavKXFYdK"
      }
    },
    {
      "cell_type": "code",
      "source": [
        "import pandas as pd\n",
        "import numpy as np\n",
        "import matplotlib.pyplot as plt\n",
        "import seaborn as sns\n",
        "import plotly.graph_objects as go\n",
        "import plotly.express as px"
      ],
      "metadata": {
        "id": "d27UsAhoHmV5"
      },
      "execution_count": 206,
      "outputs": []
    },
    {
      "cell_type": "markdown",
      "source": [
        "\n",
        "# Here I read the data set using pandas libries\n",
        "A.   **Read the dataset**\n",
        "\n"
      ],
      "metadata": {
        "id": "Ktoy1u6VFgFq"
      }
    },
    {
      "cell_type": "code",
      "source": [
        "df = pd.read_csv(\"/content/drive/MyDrive/EPHI_Project_Ewnetu/Data_sets/CHAMPS.csv\")\n",
        "df.head()"
      ],
      "metadata": {
        "colab": {
          "base_uri": "https://localhost:8080/",
          "height": 499
        },
        "id": "npn_yfFCKxYZ",
        "outputId": "b8dab3fe-2f5d-498d-a413-cee911c8f2a3"
      },
      "execution_count": 207,
      "outputs": [
        {
          "output_type": "execute_result",
          "data": {
            "text/plain": [
              "  packet_version_id id_ver_nmb  champs_id  dp_001  dp_002  dp_003 dp_004  \\\n",
              "0   ETAA00002_01_01      2.0.0  ETAA00002       5       1       2      3   \n",
              "1   ETAA00004_01_02      2.0.0  ETAA00004       5       1       2      3   \n",
              "2   ETAA00005_01_02      2.0.0  ETAA00005       5       1       2      3   \n",
              "3   ETAA00008_01_04      2.0.0  ETAA00008       5       1       2      3   \n",
              "4   ETAA00009_01_01      2.0.0  ETAA00009       5      18      19     20   \n",
              "\n",
              "   dp_005  dp_006  dp_007  ...  dpf_012___ch00040  dpf_012___ch00041  \\\n",
              "0     4.0     5.0     6.0  ...                  0                  0   \n",
              "1     4.0     5.0     6.0  ...                  0                  0   \n",
              "2     4.0     5.0     6.0  ...                  0                  0   \n",
              "3     4.0     5.0     6.0  ...                  0                  0   \n",
              "4    21.0     7.0     NaN  ...                  0                  0   \n",
              "\n",
              "   dpf_012___ch00042  dpf_012___ch00043 dpf_012___ch01424 dpf_012___ch01875  \\\n",
              "0                  0                  0                 0                 0   \n",
              "1                  0                  0                 0                 0   \n",
              "2                  0                  0                 0                 0   \n",
              "3                  0                  0                 0                 0   \n",
              "4                  0                  0                 0                 0   \n",
              "\n",
              "  dpf_012___ch00010                                            dpf_013  \\\n",
              "0                 0                          Tseyon Tesfaye Clinical     \n",
              "1                 0  Adugna (SBS team), Tigistu (counselor), Tseyon...   \n",
              "2                 0  Adugna (SBS team), Tigistu (counselor), Tseyon...   \n",
              "3                 0  Abdurahman Yonis(HO), Eyoel Taye(counselor), G...   \n",
              "4                 0                                                NaN   \n",
              "\n",
              "                                             dpf_014  \\\n",
              "0                                                NaN   \n",
              "1                                                NaN   \n",
              "2                                                NaN   \n",
              "3  The family leaves in a refugee camp and even t...   \n",
              "4                                                NaN   \n",
              "\n",
              "  crf_060302_decode_panel_feedback_form_complete  \n",
              "0                                              2  \n",
              "1                                              2  \n",
              "2                                              2  \n",
              "3                                              2  \n",
              "4                                              0  \n",
              "\n",
              "[5 rows x 381 columns]"
            ],
            "text/html": [
              "\n",
              "  <div id=\"df-04eb20ff-05c9-4692-b000-48e74583d537\" class=\"colab-df-container\">\n",
              "    <div>\n",
              "<style scoped>\n",
              "    .dataframe tbody tr th:only-of-type {\n",
              "        vertical-align: middle;\n",
              "    }\n",
              "\n",
              "    .dataframe tbody tr th {\n",
              "        vertical-align: top;\n",
              "    }\n",
              "\n",
              "    .dataframe thead th {\n",
              "        text-align: right;\n",
              "    }\n",
              "</style>\n",
              "<table border=\"1\" class=\"dataframe\">\n",
              "  <thead>\n",
              "    <tr style=\"text-align: right;\">\n",
              "      <th></th>\n",
              "      <th>packet_version_id</th>\n",
              "      <th>id_ver_nmb</th>\n",
              "      <th>champs_id</th>\n",
              "      <th>dp_001</th>\n",
              "      <th>dp_002</th>\n",
              "      <th>dp_003</th>\n",
              "      <th>dp_004</th>\n",
              "      <th>dp_005</th>\n",
              "      <th>dp_006</th>\n",
              "      <th>dp_007</th>\n",
              "      <th>...</th>\n",
              "      <th>dpf_012___ch00040</th>\n",
              "      <th>dpf_012___ch00041</th>\n",
              "      <th>dpf_012___ch00042</th>\n",
              "      <th>dpf_012___ch00043</th>\n",
              "      <th>dpf_012___ch01424</th>\n",
              "      <th>dpf_012___ch01875</th>\n",
              "      <th>dpf_012___ch00010</th>\n",
              "      <th>dpf_013</th>\n",
              "      <th>dpf_014</th>\n",
              "      <th>crf_060302_decode_panel_feedback_form_complete</th>\n",
              "    </tr>\n",
              "  </thead>\n",
              "  <tbody>\n",
              "    <tr>\n",
              "      <th>0</th>\n",
              "      <td>ETAA00002_01_01</td>\n",
              "      <td>2.0.0</td>\n",
              "      <td>ETAA00002</td>\n",
              "      <td>5</td>\n",
              "      <td>1</td>\n",
              "      <td>2</td>\n",
              "      <td>3</td>\n",
              "      <td>4.0</td>\n",
              "      <td>5.0</td>\n",
              "      <td>6.0</td>\n",
              "      <td>...</td>\n",
              "      <td>0</td>\n",
              "      <td>0</td>\n",
              "      <td>0</td>\n",
              "      <td>0</td>\n",
              "      <td>0</td>\n",
              "      <td>0</td>\n",
              "      <td>0</td>\n",
              "      <td>Tseyon Tesfaye Clinical</td>\n",
              "      <td>NaN</td>\n",
              "      <td>2</td>\n",
              "    </tr>\n",
              "    <tr>\n",
              "      <th>1</th>\n",
              "      <td>ETAA00004_01_02</td>\n",
              "      <td>2.0.0</td>\n",
              "      <td>ETAA00004</td>\n",
              "      <td>5</td>\n",
              "      <td>1</td>\n",
              "      <td>2</td>\n",
              "      <td>3</td>\n",
              "      <td>4.0</td>\n",
              "      <td>5.0</td>\n",
              "      <td>6.0</td>\n",
              "      <td>...</td>\n",
              "      <td>0</td>\n",
              "      <td>0</td>\n",
              "      <td>0</td>\n",
              "      <td>0</td>\n",
              "      <td>0</td>\n",
              "      <td>0</td>\n",
              "      <td>0</td>\n",
              "      <td>Adugna (SBS team), Tigistu (counselor), Tseyon...</td>\n",
              "      <td>NaN</td>\n",
              "      <td>2</td>\n",
              "    </tr>\n",
              "    <tr>\n",
              "      <th>2</th>\n",
              "      <td>ETAA00005_01_02</td>\n",
              "      <td>2.0.0</td>\n",
              "      <td>ETAA00005</td>\n",
              "      <td>5</td>\n",
              "      <td>1</td>\n",
              "      <td>2</td>\n",
              "      <td>3</td>\n",
              "      <td>4.0</td>\n",
              "      <td>5.0</td>\n",
              "      <td>6.0</td>\n",
              "      <td>...</td>\n",
              "      <td>0</td>\n",
              "      <td>0</td>\n",
              "      <td>0</td>\n",
              "      <td>0</td>\n",
              "      <td>0</td>\n",
              "      <td>0</td>\n",
              "      <td>0</td>\n",
              "      <td>Adugna (SBS team), Tigistu (counselor), Tseyon...</td>\n",
              "      <td>NaN</td>\n",
              "      <td>2</td>\n",
              "    </tr>\n",
              "    <tr>\n",
              "      <th>3</th>\n",
              "      <td>ETAA00008_01_04</td>\n",
              "      <td>2.0.0</td>\n",
              "      <td>ETAA00008</td>\n",
              "      <td>5</td>\n",
              "      <td>1</td>\n",
              "      <td>2</td>\n",
              "      <td>3</td>\n",
              "      <td>4.0</td>\n",
              "      <td>5.0</td>\n",
              "      <td>6.0</td>\n",
              "      <td>...</td>\n",
              "      <td>0</td>\n",
              "      <td>0</td>\n",
              "      <td>0</td>\n",
              "      <td>0</td>\n",
              "      <td>0</td>\n",
              "      <td>0</td>\n",
              "      <td>0</td>\n",
              "      <td>Abdurahman Yonis(HO), Eyoel Taye(counselor), G...</td>\n",
              "      <td>The family leaves in a refugee camp and even t...</td>\n",
              "      <td>2</td>\n",
              "    </tr>\n",
              "    <tr>\n",
              "      <th>4</th>\n",
              "      <td>ETAA00009_01_01</td>\n",
              "      <td>2.0.0</td>\n",
              "      <td>ETAA00009</td>\n",
              "      <td>5</td>\n",
              "      <td>18</td>\n",
              "      <td>19</td>\n",
              "      <td>20</td>\n",
              "      <td>21.0</td>\n",
              "      <td>7.0</td>\n",
              "      <td>NaN</td>\n",
              "      <td>...</td>\n",
              "      <td>0</td>\n",
              "      <td>0</td>\n",
              "      <td>0</td>\n",
              "      <td>0</td>\n",
              "      <td>0</td>\n",
              "      <td>0</td>\n",
              "      <td>0</td>\n",
              "      <td>NaN</td>\n",
              "      <td>NaN</td>\n",
              "      <td>0</td>\n",
              "    </tr>\n",
              "  </tbody>\n",
              "</table>\n",
              "<p>5 rows × 381 columns</p>\n",
              "</div>\n",
              "    <div class=\"colab-df-buttons\">\n",
              "\n",
              "  <div class=\"colab-df-container\">\n",
              "    <button class=\"colab-df-convert\" onclick=\"convertToInteractive('df-04eb20ff-05c9-4692-b000-48e74583d537')\"\n",
              "            title=\"Convert this dataframe to an interactive table.\"\n",
              "            style=\"display:none;\">\n",
              "\n",
              "  <svg xmlns=\"http://www.w3.org/2000/svg\" height=\"24px\" viewBox=\"0 -960 960 960\">\n",
              "    <path d=\"M120-120v-720h720v720H120Zm60-500h600v-160H180v160Zm220 220h160v-160H400v160Zm0 220h160v-160H400v160ZM180-400h160v-160H180v160Zm440 0h160v-160H620v160ZM180-180h160v-160H180v160Zm440 0h160v-160H620v160Z\"/>\n",
              "  </svg>\n",
              "    </button>\n",
              "\n",
              "  <style>\n",
              "    .colab-df-container {\n",
              "      display:flex;\n",
              "      gap: 12px;\n",
              "    }\n",
              "\n",
              "    .colab-df-convert {\n",
              "      background-color: #E8F0FE;\n",
              "      border: none;\n",
              "      border-radius: 50%;\n",
              "      cursor: pointer;\n",
              "      display: none;\n",
              "      fill: #1967D2;\n",
              "      height: 32px;\n",
              "      padding: 0 0 0 0;\n",
              "      width: 32px;\n",
              "    }\n",
              "\n",
              "    .colab-df-convert:hover {\n",
              "      background-color: #E2EBFA;\n",
              "      box-shadow: 0px 1px 2px rgba(60, 64, 67, 0.3), 0px 1px 3px 1px rgba(60, 64, 67, 0.15);\n",
              "      fill: #174EA6;\n",
              "    }\n",
              "\n",
              "    .colab-df-buttons div {\n",
              "      margin-bottom: 4px;\n",
              "    }\n",
              "\n",
              "    [theme=dark] .colab-df-convert {\n",
              "      background-color: #3B4455;\n",
              "      fill: #D2E3FC;\n",
              "    }\n",
              "\n",
              "    [theme=dark] .colab-df-convert:hover {\n",
              "      background-color: #434B5C;\n",
              "      box-shadow: 0px 1px 3px 1px rgba(0, 0, 0, 0.15);\n",
              "      filter: drop-shadow(0px 1px 2px rgba(0, 0, 0, 0.3));\n",
              "      fill: #FFFFFF;\n",
              "    }\n",
              "  </style>\n",
              "\n",
              "    <script>\n",
              "      const buttonEl =\n",
              "        document.querySelector('#df-04eb20ff-05c9-4692-b000-48e74583d537 button.colab-df-convert');\n",
              "      buttonEl.style.display =\n",
              "        google.colab.kernel.accessAllowed ? 'block' : 'none';\n",
              "\n",
              "      async function convertToInteractive(key) {\n",
              "        const element = document.querySelector('#df-04eb20ff-05c9-4692-b000-48e74583d537');\n",
              "        const dataTable =\n",
              "          await google.colab.kernel.invokeFunction('convertToInteractive',\n",
              "                                                    [key], {});\n",
              "        if (!dataTable) return;\n",
              "\n",
              "        const docLinkHtml = 'Like what you see? Visit the ' +\n",
              "          '<a target=\"_blank\" href=https://colab.research.google.com/notebooks/data_table.ipynb>data table notebook</a>'\n",
              "          + ' to learn more about interactive tables.';\n",
              "        element.innerHTML = '';\n",
              "        dataTable['output_type'] = 'display_data';\n",
              "        await google.colab.output.renderOutput(dataTable, element);\n",
              "        const docLink = document.createElement('div');\n",
              "        docLink.innerHTML = docLinkHtml;\n",
              "        element.appendChild(docLink);\n",
              "      }\n",
              "    </script>\n",
              "  </div>\n",
              "\n",
              "\n",
              "<div id=\"df-b5749516-da8e-401a-8dc9-366feb823b27\">\n",
              "  <button class=\"colab-df-quickchart\" onclick=\"quickchart('df-b5749516-da8e-401a-8dc9-366feb823b27')\"\n",
              "            title=\"Suggest charts\"\n",
              "            style=\"display:none;\">\n",
              "\n",
              "<svg xmlns=\"http://www.w3.org/2000/svg\" height=\"24px\"viewBox=\"0 0 24 24\"\n",
              "     width=\"24px\">\n",
              "    <g>\n",
              "        <path d=\"M19 3H5c-1.1 0-2 .9-2 2v14c0 1.1.9 2 2 2h14c1.1 0 2-.9 2-2V5c0-1.1-.9-2-2-2zM9 17H7v-7h2v7zm4 0h-2V7h2v10zm4 0h-2v-4h2v4z\"/>\n",
              "    </g>\n",
              "</svg>\n",
              "  </button>\n",
              "\n",
              "<style>\n",
              "  .colab-df-quickchart {\n",
              "      --bg-color: #E8F0FE;\n",
              "      --fill-color: #1967D2;\n",
              "      --hover-bg-color: #E2EBFA;\n",
              "      --hover-fill-color: #174EA6;\n",
              "      --disabled-fill-color: #AAA;\n",
              "      --disabled-bg-color: #DDD;\n",
              "  }\n",
              "\n",
              "  [theme=dark] .colab-df-quickchart {\n",
              "      --bg-color: #3B4455;\n",
              "      --fill-color: #D2E3FC;\n",
              "      --hover-bg-color: #434B5C;\n",
              "      --hover-fill-color: #FFFFFF;\n",
              "      --disabled-bg-color: #3B4455;\n",
              "      --disabled-fill-color: #666;\n",
              "  }\n",
              "\n",
              "  .colab-df-quickchart {\n",
              "    background-color: var(--bg-color);\n",
              "    border: none;\n",
              "    border-radius: 50%;\n",
              "    cursor: pointer;\n",
              "    display: none;\n",
              "    fill: var(--fill-color);\n",
              "    height: 32px;\n",
              "    padding: 0;\n",
              "    width: 32px;\n",
              "  }\n",
              "\n",
              "  .colab-df-quickchart:hover {\n",
              "    background-color: var(--hover-bg-color);\n",
              "    box-shadow: 0 1px 2px rgba(60, 64, 67, 0.3), 0 1px 3px 1px rgba(60, 64, 67, 0.15);\n",
              "    fill: var(--button-hover-fill-color);\n",
              "  }\n",
              "\n",
              "  .colab-df-quickchart-complete:disabled,\n",
              "  .colab-df-quickchart-complete:disabled:hover {\n",
              "    background-color: var(--disabled-bg-color);\n",
              "    fill: var(--disabled-fill-color);\n",
              "    box-shadow: none;\n",
              "  }\n",
              "\n",
              "  .colab-df-spinner {\n",
              "    border: 2px solid var(--fill-color);\n",
              "    border-color: transparent;\n",
              "    border-bottom-color: var(--fill-color);\n",
              "    animation:\n",
              "      spin 1s steps(1) infinite;\n",
              "  }\n",
              "\n",
              "  @keyframes spin {\n",
              "    0% {\n",
              "      border-color: transparent;\n",
              "      border-bottom-color: var(--fill-color);\n",
              "      border-left-color: var(--fill-color);\n",
              "    }\n",
              "    20% {\n",
              "      border-color: transparent;\n",
              "      border-left-color: var(--fill-color);\n",
              "      border-top-color: var(--fill-color);\n",
              "    }\n",
              "    30% {\n",
              "      border-color: transparent;\n",
              "      border-left-color: var(--fill-color);\n",
              "      border-top-color: var(--fill-color);\n",
              "      border-right-color: var(--fill-color);\n",
              "    }\n",
              "    40% {\n",
              "      border-color: transparent;\n",
              "      border-right-color: var(--fill-color);\n",
              "      border-top-color: var(--fill-color);\n",
              "    }\n",
              "    60% {\n",
              "      border-color: transparent;\n",
              "      border-right-color: var(--fill-color);\n",
              "    }\n",
              "    80% {\n",
              "      border-color: transparent;\n",
              "      border-right-color: var(--fill-color);\n",
              "      border-bottom-color: var(--fill-color);\n",
              "    }\n",
              "    90% {\n",
              "      border-color: transparent;\n",
              "      border-bottom-color: var(--fill-color);\n",
              "    }\n",
              "  }\n",
              "</style>\n",
              "\n",
              "  <script>\n",
              "    async function quickchart(key) {\n",
              "      const quickchartButtonEl =\n",
              "        document.querySelector('#' + key + ' button');\n",
              "      quickchartButtonEl.disabled = true;  // To prevent multiple clicks.\n",
              "      quickchartButtonEl.classList.add('colab-df-spinner');\n",
              "      try {\n",
              "        const charts = await google.colab.kernel.invokeFunction(\n",
              "            'suggestCharts', [key], {});\n",
              "      } catch (error) {\n",
              "        console.error('Error during call to suggestCharts:', error);\n",
              "      }\n",
              "      quickchartButtonEl.classList.remove('colab-df-spinner');\n",
              "      quickchartButtonEl.classList.add('colab-df-quickchart-complete');\n",
              "    }\n",
              "    (() => {\n",
              "      let quickchartButtonEl =\n",
              "        document.querySelector('#df-b5749516-da8e-401a-8dc9-366feb823b27 button');\n",
              "      quickchartButtonEl.style.display =\n",
              "        google.colab.kernel.accessAllowed ? 'block' : 'none';\n",
              "    })();\n",
              "  </script>\n",
              "</div>\n",
              "\n",
              "    </div>\n",
              "  </div>\n"
            ],
            "application/vnd.google.colaboratory.intrinsic+json": {
              "type": "dataframe",
              "variable_name": "df"
            }
          },
          "metadata": {},
          "execution_count": 207
        }
      ]
    },
    {
      "cell_type": "markdown",
      "source": [
        "**How many rows and columns are they in the dataset**\n",
        "\n",
        "\n",
        "B.  Number of rows and columns in the data set\n",
        "\n",
        "\n"
      ],
      "metadata": {
        "id": "sIOo2A2yF9NB"
      }
    },
    {
      "cell_type": "code",
      "source": [
        "df.shape"
      ],
      "metadata": {
        "colab": {
          "base_uri": "https://localhost:8080/"
        },
        "id": "AtjKL9JtLGDo",
        "outputId": "bfacc4dd-e0c2-4795-cd63-eec09d325e8f"
      },
      "execution_count": 208,
      "outputs": [
        {
          "output_type": "execute_result",
          "data": {
            "text/plain": [
              "(444, 381)"
            ]
          },
          "metadata": {},
          "execution_count": 208
        }
      ]
    },
    {
      "cell_type": "markdown",
      "source": [
        "*We have 444  rows and 381 columns in the data set*"
      ],
      "metadata": {
        "id": "36nv8z1-GOBL"
      }
    },
    {
      "cell_type": "markdown",
      "source": [
        "**Enumerate the columns of the dataset**\n",
        "\n",
        "C.   Enumerate the columns of the dataset\n",
        "\n"
      ],
      "metadata": {
        "id": "DMEuhjaHGluR"
      }
    },
    {
      "cell_type": "code",
      "source": [
        "print(df.columns)#here we enumerate all the columns of the data set"
      ],
      "metadata": {
        "colab": {
          "base_uri": "https://localhost:8080/"
        },
        "id": "RUzhoa0ZXWmg",
        "outputId": "438d22d7-d61c-4010-f731-4a8c4cd5e999"
      },
      "execution_count": 209,
      "outputs": [
        {
          "output_type": "stream",
          "name": "stdout",
          "text": [
            "Index(['packet_version_id', 'id_ver_nmb', 'champs_id', 'dp_001', 'dp_002',\n",
            "       'dp_003', 'dp_004', 'dp_005', 'dp_006', 'dp_007',\n",
            "       ...\n",
            "       'dpf_012___ch00040', 'dpf_012___ch00041', 'dpf_012___ch00042',\n",
            "       'dpf_012___ch00043', 'dpf_012___ch01424', 'dpf_012___ch01875',\n",
            "       'dpf_012___ch00010', 'dpf_013', 'dpf_014',\n",
            "       'crf_060302_decode_panel_feedback_form_complete'],\n",
            "      dtype='object', length=381)\n"
          ]
        }
      ]
    },
    {
      "cell_type": "markdown",
      "source": [
        "**D. Rename the columns. Example: rename column dp_013 to case_type**\n",
        "\n",
        "D. Rename the columns. Example: rename column dp_013 to case_type"
      ],
      "metadata": {
        "id": "Ytg2wqx4JF8z"
      }
    },
    {
      "cell_type": "code",
      "source": [
        "### rename all the columens of the data set\n",
        "df_renamed = df.rename(columns = {'dp_013':'case_type', 'champs_id':'mortality','dp_108': 'underlying cause',  'dp_118': 'Main maternal disease condition affecting the child/fetus'})"
      ],
      "metadata": {
        "id": "lMosKbWsMUFK"
      },
      "execution_count": 210,
      "outputs": []
    },
    {
      "cell_type": "code",
      "source": [
        "df_renamed.head()"
      ],
      "metadata": {
        "colab": {
          "base_uri": "https://localhost:8080/",
          "height": 499
        },
        "id": "1uuwww-ATmuZ",
        "outputId": "8643384c-8a4c-4801-ae7b-f16484ea1c0f"
      },
      "execution_count": 211,
      "outputs": [
        {
          "output_type": "execute_result",
          "data": {
            "text/plain": [
              "  packet_version_id id_ver_nmb  mortality  dp_001  dp_002  dp_003 dp_004  \\\n",
              "0   ETAA00002_01_01      2.0.0  ETAA00002       5       1       2      3   \n",
              "1   ETAA00004_01_02      2.0.0  ETAA00004       5       1       2      3   \n",
              "2   ETAA00005_01_02      2.0.0  ETAA00005       5       1       2      3   \n",
              "3   ETAA00008_01_04      2.0.0  ETAA00008       5       1       2      3   \n",
              "4   ETAA00009_01_01      2.0.0  ETAA00009       5      18      19     20   \n",
              "\n",
              "   dp_005  dp_006  dp_007  ...  dpf_012___ch00040  dpf_012___ch00041  \\\n",
              "0     4.0     5.0     6.0  ...                  0                  0   \n",
              "1     4.0     5.0     6.0  ...                  0                  0   \n",
              "2     4.0     5.0     6.0  ...                  0                  0   \n",
              "3     4.0     5.0     6.0  ...                  0                  0   \n",
              "4    21.0     7.0     NaN  ...                  0                  0   \n",
              "\n",
              "   dpf_012___ch00042  dpf_012___ch00043 dpf_012___ch01424 dpf_012___ch01875  \\\n",
              "0                  0                  0                 0                 0   \n",
              "1                  0                  0                 0                 0   \n",
              "2                  0                  0                 0                 0   \n",
              "3                  0                  0                 0                 0   \n",
              "4                  0                  0                 0                 0   \n",
              "\n",
              "  dpf_012___ch00010                                            dpf_013  \\\n",
              "0                 0                          Tseyon Tesfaye Clinical     \n",
              "1                 0  Adugna (SBS team), Tigistu (counselor), Tseyon...   \n",
              "2                 0  Adugna (SBS team), Tigistu (counselor), Tseyon...   \n",
              "3                 0  Abdurahman Yonis(HO), Eyoel Taye(counselor), G...   \n",
              "4                 0                                                NaN   \n",
              "\n",
              "                                             dpf_014  \\\n",
              "0                                                NaN   \n",
              "1                                                NaN   \n",
              "2                                                NaN   \n",
              "3  The family leaves in a refugee camp and even t...   \n",
              "4                                                NaN   \n",
              "\n",
              "  crf_060302_decode_panel_feedback_form_complete  \n",
              "0                                              2  \n",
              "1                                              2  \n",
              "2                                              2  \n",
              "3                                              2  \n",
              "4                                              0  \n",
              "\n",
              "[5 rows x 381 columns]"
            ],
            "text/html": [
              "\n",
              "  <div id=\"df-aba75e80-0354-4621-89ed-1c572bce776f\" class=\"colab-df-container\">\n",
              "    <div>\n",
              "<style scoped>\n",
              "    .dataframe tbody tr th:only-of-type {\n",
              "        vertical-align: middle;\n",
              "    }\n",
              "\n",
              "    .dataframe tbody tr th {\n",
              "        vertical-align: top;\n",
              "    }\n",
              "\n",
              "    .dataframe thead th {\n",
              "        text-align: right;\n",
              "    }\n",
              "</style>\n",
              "<table border=\"1\" class=\"dataframe\">\n",
              "  <thead>\n",
              "    <tr style=\"text-align: right;\">\n",
              "      <th></th>\n",
              "      <th>packet_version_id</th>\n",
              "      <th>id_ver_nmb</th>\n",
              "      <th>mortality</th>\n",
              "      <th>dp_001</th>\n",
              "      <th>dp_002</th>\n",
              "      <th>dp_003</th>\n",
              "      <th>dp_004</th>\n",
              "      <th>dp_005</th>\n",
              "      <th>dp_006</th>\n",
              "      <th>dp_007</th>\n",
              "      <th>...</th>\n",
              "      <th>dpf_012___ch00040</th>\n",
              "      <th>dpf_012___ch00041</th>\n",
              "      <th>dpf_012___ch00042</th>\n",
              "      <th>dpf_012___ch00043</th>\n",
              "      <th>dpf_012___ch01424</th>\n",
              "      <th>dpf_012___ch01875</th>\n",
              "      <th>dpf_012___ch00010</th>\n",
              "      <th>dpf_013</th>\n",
              "      <th>dpf_014</th>\n",
              "      <th>crf_060302_decode_panel_feedback_form_complete</th>\n",
              "    </tr>\n",
              "  </thead>\n",
              "  <tbody>\n",
              "    <tr>\n",
              "      <th>0</th>\n",
              "      <td>ETAA00002_01_01</td>\n",
              "      <td>2.0.0</td>\n",
              "      <td>ETAA00002</td>\n",
              "      <td>5</td>\n",
              "      <td>1</td>\n",
              "      <td>2</td>\n",
              "      <td>3</td>\n",
              "      <td>4.0</td>\n",
              "      <td>5.0</td>\n",
              "      <td>6.0</td>\n",
              "      <td>...</td>\n",
              "      <td>0</td>\n",
              "      <td>0</td>\n",
              "      <td>0</td>\n",
              "      <td>0</td>\n",
              "      <td>0</td>\n",
              "      <td>0</td>\n",
              "      <td>0</td>\n",
              "      <td>Tseyon Tesfaye Clinical</td>\n",
              "      <td>NaN</td>\n",
              "      <td>2</td>\n",
              "    </tr>\n",
              "    <tr>\n",
              "      <th>1</th>\n",
              "      <td>ETAA00004_01_02</td>\n",
              "      <td>2.0.0</td>\n",
              "      <td>ETAA00004</td>\n",
              "      <td>5</td>\n",
              "      <td>1</td>\n",
              "      <td>2</td>\n",
              "      <td>3</td>\n",
              "      <td>4.0</td>\n",
              "      <td>5.0</td>\n",
              "      <td>6.0</td>\n",
              "      <td>...</td>\n",
              "      <td>0</td>\n",
              "      <td>0</td>\n",
              "      <td>0</td>\n",
              "      <td>0</td>\n",
              "      <td>0</td>\n",
              "      <td>0</td>\n",
              "      <td>0</td>\n",
              "      <td>Adugna (SBS team), Tigistu (counselor), Tseyon...</td>\n",
              "      <td>NaN</td>\n",
              "      <td>2</td>\n",
              "    </tr>\n",
              "    <tr>\n",
              "      <th>2</th>\n",
              "      <td>ETAA00005_01_02</td>\n",
              "      <td>2.0.0</td>\n",
              "      <td>ETAA00005</td>\n",
              "      <td>5</td>\n",
              "      <td>1</td>\n",
              "      <td>2</td>\n",
              "      <td>3</td>\n",
              "      <td>4.0</td>\n",
              "      <td>5.0</td>\n",
              "      <td>6.0</td>\n",
              "      <td>...</td>\n",
              "      <td>0</td>\n",
              "      <td>0</td>\n",
              "      <td>0</td>\n",
              "      <td>0</td>\n",
              "      <td>0</td>\n",
              "      <td>0</td>\n",
              "      <td>0</td>\n",
              "      <td>Adugna (SBS team), Tigistu (counselor), Tseyon...</td>\n",
              "      <td>NaN</td>\n",
              "      <td>2</td>\n",
              "    </tr>\n",
              "    <tr>\n",
              "      <th>3</th>\n",
              "      <td>ETAA00008_01_04</td>\n",
              "      <td>2.0.0</td>\n",
              "      <td>ETAA00008</td>\n",
              "      <td>5</td>\n",
              "      <td>1</td>\n",
              "      <td>2</td>\n",
              "      <td>3</td>\n",
              "      <td>4.0</td>\n",
              "      <td>5.0</td>\n",
              "      <td>6.0</td>\n",
              "      <td>...</td>\n",
              "      <td>0</td>\n",
              "      <td>0</td>\n",
              "      <td>0</td>\n",
              "      <td>0</td>\n",
              "      <td>0</td>\n",
              "      <td>0</td>\n",
              "      <td>0</td>\n",
              "      <td>Abdurahman Yonis(HO), Eyoel Taye(counselor), G...</td>\n",
              "      <td>The family leaves in a refugee camp and even t...</td>\n",
              "      <td>2</td>\n",
              "    </tr>\n",
              "    <tr>\n",
              "      <th>4</th>\n",
              "      <td>ETAA00009_01_01</td>\n",
              "      <td>2.0.0</td>\n",
              "      <td>ETAA00009</td>\n",
              "      <td>5</td>\n",
              "      <td>18</td>\n",
              "      <td>19</td>\n",
              "      <td>20</td>\n",
              "      <td>21.0</td>\n",
              "      <td>7.0</td>\n",
              "      <td>NaN</td>\n",
              "      <td>...</td>\n",
              "      <td>0</td>\n",
              "      <td>0</td>\n",
              "      <td>0</td>\n",
              "      <td>0</td>\n",
              "      <td>0</td>\n",
              "      <td>0</td>\n",
              "      <td>0</td>\n",
              "      <td>NaN</td>\n",
              "      <td>NaN</td>\n",
              "      <td>0</td>\n",
              "    </tr>\n",
              "  </tbody>\n",
              "</table>\n",
              "<p>5 rows × 381 columns</p>\n",
              "</div>\n",
              "    <div class=\"colab-df-buttons\">\n",
              "\n",
              "  <div class=\"colab-df-container\">\n",
              "    <button class=\"colab-df-convert\" onclick=\"convertToInteractive('df-aba75e80-0354-4621-89ed-1c572bce776f')\"\n",
              "            title=\"Convert this dataframe to an interactive table.\"\n",
              "            style=\"display:none;\">\n",
              "\n",
              "  <svg xmlns=\"http://www.w3.org/2000/svg\" height=\"24px\" viewBox=\"0 -960 960 960\">\n",
              "    <path d=\"M120-120v-720h720v720H120Zm60-500h600v-160H180v160Zm220 220h160v-160H400v160Zm0 220h160v-160H400v160ZM180-400h160v-160H180v160Zm440 0h160v-160H620v160ZM180-180h160v-160H180v160Zm440 0h160v-160H620v160Z\"/>\n",
              "  </svg>\n",
              "    </button>\n",
              "\n",
              "  <style>\n",
              "    .colab-df-container {\n",
              "      display:flex;\n",
              "      gap: 12px;\n",
              "    }\n",
              "\n",
              "    .colab-df-convert {\n",
              "      background-color: #E8F0FE;\n",
              "      border: none;\n",
              "      border-radius: 50%;\n",
              "      cursor: pointer;\n",
              "      display: none;\n",
              "      fill: #1967D2;\n",
              "      height: 32px;\n",
              "      padding: 0 0 0 0;\n",
              "      width: 32px;\n",
              "    }\n",
              "\n",
              "    .colab-df-convert:hover {\n",
              "      background-color: #E2EBFA;\n",
              "      box-shadow: 0px 1px 2px rgba(60, 64, 67, 0.3), 0px 1px 3px 1px rgba(60, 64, 67, 0.15);\n",
              "      fill: #174EA6;\n",
              "    }\n",
              "\n",
              "    .colab-df-buttons div {\n",
              "      margin-bottom: 4px;\n",
              "    }\n",
              "\n",
              "    [theme=dark] .colab-df-convert {\n",
              "      background-color: #3B4455;\n",
              "      fill: #D2E3FC;\n",
              "    }\n",
              "\n",
              "    [theme=dark] .colab-df-convert:hover {\n",
              "      background-color: #434B5C;\n",
              "      box-shadow: 0px 1px 3px 1px rgba(0, 0, 0, 0.15);\n",
              "      filter: drop-shadow(0px 1px 2px rgba(0, 0, 0, 0.3));\n",
              "      fill: #FFFFFF;\n",
              "    }\n",
              "  </style>\n",
              "\n",
              "    <script>\n",
              "      const buttonEl =\n",
              "        document.querySelector('#df-aba75e80-0354-4621-89ed-1c572bce776f button.colab-df-convert');\n",
              "      buttonEl.style.display =\n",
              "        google.colab.kernel.accessAllowed ? 'block' : 'none';\n",
              "\n",
              "      async function convertToInteractive(key) {\n",
              "        const element = document.querySelector('#df-aba75e80-0354-4621-89ed-1c572bce776f');\n",
              "        const dataTable =\n",
              "          await google.colab.kernel.invokeFunction('convertToInteractive',\n",
              "                                                    [key], {});\n",
              "        if (!dataTable) return;\n",
              "\n",
              "        const docLinkHtml = 'Like what you see? Visit the ' +\n",
              "          '<a target=\"_blank\" href=https://colab.research.google.com/notebooks/data_table.ipynb>data table notebook</a>'\n",
              "          + ' to learn more about interactive tables.';\n",
              "        element.innerHTML = '';\n",
              "        dataTable['output_type'] = 'display_data';\n",
              "        await google.colab.output.renderOutput(dataTable, element);\n",
              "        const docLink = document.createElement('div');\n",
              "        docLink.innerHTML = docLinkHtml;\n",
              "        element.appendChild(docLink);\n",
              "      }\n",
              "    </script>\n",
              "  </div>\n",
              "\n",
              "\n",
              "<div id=\"df-46b71ebf-f5a1-45fd-82c9-cebb65cad9b0\">\n",
              "  <button class=\"colab-df-quickchart\" onclick=\"quickchart('df-46b71ebf-f5a1-45fd-82c9-cebb65cad9b0')\"\n",
              "            title=\"Suggest charts\"\n",
              "            style=\"display:none;\">\n",
              "\n",
              "<svg xmlns=\"http://www.w3.org/2000/svg\" height=\"24px\"viewBox=\"0 0 24 24\"\n",
              "     width=\"24px\">\n",
              "    <g>\n",
              "        <path d=\"M19 3H5c-1.1 0-2 .9-2 2v14c0 1.1.9 2 2 2h14c1.1 0 2-.9 2-2V5c0-1.1-.9-2-2-2zM9 17H7v-7h2v7zm4 0h-2V7h2v10zm4 0h-2v-4h2v4z\"/>\n",
              "    </g>\n",
              "</svg>\n",
              "  </button>\n",
              "\n",
              "<style>\n",
              "  .colab-df-quickchart {\n",
              "      --bg-color: #E8F0FE;\n",
              "      --fill-color: #1967D2;\n",
              "      --hover-bg-color: #E2EBFA;\n",
              "      --hover-fill-color: #174EA6;\n",
              "      --disabled-fill-color: #AAA;\n",
              "      --disabled-bg-color: #DDD;\n",
              "  }\n",
              "\n",
              "  [theme=dark] .colab-df-quickchart {\n",
              "      --bg-color: #3B4455;\n",
              "      --fill-color: #D2E3FC;\n",
              "      --hover-bg-color: #434B5C;\n",
              "      --hover-fill-color: #FFFFFF;\n",
              "      --disabled-bg-color: #3B4455;\n",
              "      --disabled-fill-color: #666;\n",
              "  }\n",
              "\n",
              "  .colab-df-quickchart {\n",
              "    background-color: var(--bg-color);\n",
              "    border: none;\n",
              "    border-radius: 50%;\n",
              "    cursor: pointer;\n",
              "    display: none;\n",
              "    fill: var(--fill-color);\n",
              "    height: 32px;\n",
              "    padding: 0;\n",
              "    width: 32px;\n",
              "  }\n",
              "\n",
              "  .colab-df-quickchart:hover {\n",
              "    background-color: var(--hover-bg-color);\n",
              "    box-shadow: 0 1px 2px rgba(60, 64, 67, 0.3), 0 1px 3px 1px rgba(60, 64, 67, 0.15);\n",
              "    fill: var(--button-hover-fill-color);\n",
              "  }\n",
              "\n",
              "  .colab-df-quickchart-complete:disabled,\n",
              "  .colab-df-quickchart-complete:disabled:hover {\n",
              "    background-color: var(--disabled-bg-color);\n",
              "    fill: var(--disabled-fill-color);\n",
              "    box-shadow: none;\n",
              "  }\n",
              "\n",
              "  .colab-df-spinner {\n",
              "    border: 2px solid var(--fill-color);\n",
              "    border-color: transparent;\n",
              "    border-bottom-color: var(--fill-color);\n",
              "    animation:\n",
              "      spin 1s steps(1) infinite;\n",
              "  }\n",
              "\n",
              "  @keyframes spin {\n",
              "    0% {\n",
              "      border-color: transparent;\n",
              "      border-bottom-color: var(--fill-color);\n",
              "      border-left-color: var(--fill-color);\n",
              "    }\n",
              "    20% {\n",
              "      border-color: transparent;\n",
              "      border-left-color: var(--fill-color);\n",
              "      border-top-color: var(--fill-color);\n",
              "    }\n",
              "    30% {\n",
              "      border-color: transparent;\n",
              "      border-left-color: var(--fill-color);\n",
              "      border-top-color: var(--fill-color);\n",
              "      border-right-color: var(--fill-color);\n",
              "    }\n",
              "    40% {\n",
              "      border-color: transparent;\n",
              "      border-right-color: var(--fill-color);\n",
              "      border-top-color: var(--fill-color);\n",
              "    }\n",
              "    60% {\n",
              "      border-color: transparent;\n",
              "      border-right-color: var(--fill-color);\n",
              "    }\n",
              "    80% {\n",
              "      border-color: transparent;\n",
              "      border-right-color: var(--fill-color);\n",
              "      border-bottom-color: var(--fill-color);\n",
              "    }\n",
              "    90% {\n",
              "      border-color: transparent;\n",
              "      border-bottom-color: var(--fill-color);\n",
              "    }\n",
              "  }\n",
              "</style>\n",
              "\n",
              "  <script>\n",
              "    async function quickchart(key) {\n",
              "      const quickchartButtonEl =\n",
              "        document.querySelector('#' + key + ' button');\n",
              "      quickchartButtonEl.disabled = true;  // To prevent multiple clicks.\n",
              "      quickchartButtonEl.classList.add('colab-df-spinner');\n",
              "      try {\n",
              "        const charts = await google.colab.kernel.invokeFunction(\n",
              "            'suggestCharts', [key], {});\n",
              "      } catch (error) {\n",
              "        console.error('Error during call to suggestCharts:', error);\n",
              "      }\n",
              "      quickchartButtonEl.classList.remove('colab-df-spinner');\n",
              "      quickchartButtonEl.classList.add('colab-df-quickchart-complete');\n",
              "    }\n",
              "    (() => {\n",
              "      let quickchartButtonEl =\n",
              "        document.querySelector('#df-46b71ebf-f5a1-45fd-82c9-cebb65cad9b0 button');\n",
              "      quickchartButtonEl.style.display =\n",
              "        google.colab.kernel.accessAllowed ? 'block' : 'none';\n",
              "    })();\n",
              "  </script>\n",
              "</div>\n",
              "\n",
              "    </div>\n",
              "  </div>\n"
            ],
            "application/vnd.google.colaboratory.intrinsic+json": {
              "type": "dataframe",
              "variable_name": "df_renamed"
            }
          },
          "metadata": {},
          "execution_count": 211
        }
      ]
    },
    {
      "cell_type": "code",
      "source": [
        "df_renamed['case_type'].value_counts()"
      ],
      "metadata": {
        "colab": {
          "base_uri": "https://localhost:8080/"
        },
        "id": "wLEa3tRbb646",
        "outputId": "21d4b291-e756-4074-fa92-bdf4cb4c4b0e"
      },
      "execution_count": 212,
      "outputs": [
        {
          "output_type": "execute_result",
          "data": {
            "text/plain": [
              "case_type\n",
              "CH00716    239\n",
              "CH01404     69\n",
              "CH01405     49\n",
              "CH00719     42\n",
              "CH00718     27\n",
              "CH01406     18\n",
              "Name: count, dtype: int64"
            ]
          },
          "metadata": {},
          "execution_count": 212
        }
      ]
    },
    {
      "cell_type": "code",
      "source": [
        "df_renamed['case_type'].unique()"
      ],
      "metadata": {
        "colab": {
          "base_uri": "https://localhost:8080/"
        },
        "id": "w00gRQtZXhbX",
        "outputId": "e53d5439-6577-41f9-f9b1-8e16396ead11"
      },
      "execution_count": 213,
      "outputs": [
        {
          "output_type": "execute_result",
          "data": {
            "text/plain": [
              "array(['CH00716', 'CH00719', 'CH01406', 'CH00718', 'CH01404', 'CH01405'],\n",
              "      dtype=object)"
            ]
          },
          "metadata": {},
          "execution_count": 213
        }
      ]
    },
    {
      "cell_type": "markdown",
      "source": [
        "**E. Rename values. Example: rename CH00716 to Stillbirth. Do the same for\n",
        "others too.**\n",
        "\n",
        "\n",
        "E.  Rename values. Example: rename CH00716 to Stillbirth. Do the same for\n",
        "others too."
      ],
      "metadata": {
        "id": "VOb5L4R8gqDo"
      }
    },
    {
      "cell_type": "code",
      "source": [
        "conditions = [df_renamed['case_type'] == 'CH00716',df_renamed['case_type'] == 'CH00719', df_renamed['case_type'] == 'CH01406', df_renamed['case_type'] == 'CH00718',df_renamed['case_type'] == 'CH01404',df_renamed['case_type'] == 'CH01405']\n",
        "vars = ['Stillbirth','Death in the first 24 hours','Early Neonate','Late Neonate','Infant','Child']\n",
        "df_renamed['case_type'] = np.select(conditions, vars)"
      ],
      "metadata": {
        "id": "kLM7GOOXXDUH"
      },
      "execution_count": 214,
      "outputs": []
    },
    {
      "cell_type": "code",
      "source": [
        "##check\n",
        "df_renamed['case_type'].unique()"
      ],
      "metadata": {
        "colab": {
          "base_uri": "https://localhost:8080/"
        },
        "id": "eCBrbWJUUGFR",
        "outputId": "a2e7b5c5-004b-4c62-b7bf-3549019a330b"
      },
      "execution_count": 215,
      "outputs": [
        {
          "output_type": "execute_result",
          "data": {
            "text/plain": [
              "array(['Stillbirth', 'Death in the first 24 hours', 'Early Neonate',\n",
              "       'Late Neonate', 'Infant', 'Child'], dtype=object)"
            ]
          },
          "metadata": {},
          "execution_count": 215
        }
      ]
    },
    {
      "cell_type": "markdown",
      "source": [
        "# F. Show the proportion of null values in each column."
      ],
      "metadata": {
        "id": "DEhx6vE-Zjx2"
      }
    },
    {
      "cell_type": "code",
      "source": [
        "df_renamed.isnull().mean()# the proportion of null  values for each columns in the data set"
      ],
      "metadata": {
        "colab": {
          "base_uri": "https://localhost:8080/"
        },
        "id": "AkM-yM-kZegw",
        "outputId": "6f7f5284-881c-47a5-c42d-3dbfb09e6901"
      },
      "execution_count": 216,
      "outputs": [
        {
          "output_type": "execute_result",
          "data": {
            "text/plain": [
              "packet_version_id                                 0.000000\n",
              "id_ver_nmb                                        0.000000\n",
              "mortality                                         0.000000\n",
              "dp_001                                            0.000000\n",
              "dp_002                                            0.000000\n",
              "                                                    ...   \n",
              "dpf_012___ch01875                                 0.000000\n",
              "dpf_012___ch00010                                 0.000000\n",
              "dpf_013                                           0.590090\n",
              "dpf_014                                           0.603604\n",
              "crf_060302_decode_panel_feedback_form_complete    0.000000\n",
              "Length: 381, dtype: float64"
            ]
          },
          "metadata": {},
          "execution_count": 216
        }
      ]
    },
    {
      "cell_type": "code",
      "source": [
        "## case 2 the propertion of all  null  values in each columns\n",
        "df_renamed.isnull().sum()"
      ],
      "metadata": {
        "colab": {
          "base_uri": "https://localhost:8080/"
        },
        "id": "O9MZ4y-FMY9I",
        "outputId": "a7e7a846-9f88-4a11-8569-f3da32452bfc"
      },
      "execution_count": 217,
      "outputs": [
        {
          "output_type": "execute_result",
          "data": {
            "text/plain": [
              "packet_version_id                                   0\n",
              "id_ver_nmb                                          0\n",
              "mortality                                           0\n",
              "dp_001                                              0\n",
              "dp_002                                              0\n",
              "                                                 ... \n",
              "dpf_012___ch01875                                   0\n",
              "dpf_012___ch00010                                   0\n",
              "dpf_013                                           262\n",
              "dpf_014                                           268\n",
              "crf_060302_decode_panel_feedback_form_complete      0\n",
              "Length: 381, dtype: int64"
            ]
          },
          "metadata": {},
          "execution_count": 217
        }
      ]
    },
    {
      "cell_type": "markdown",
      "source": [
        "# 2. Descriptive Data analysis: looking back to the dataset above\n",
        "\n",
        "#A.   What are the magnitude and proportion of each of the infant underlying cause for child death?\n"
      ],
      "metadata": {
        "id": "M7s7AQuebUjx"
      }
    },
    {
      "cell_type": "code",
      "source": [
        "##lets check the unique value of the undelying case columns.\n",
        "df_renamed['underlying cause'].unique()"
      ],
      "metadata": {
        "colab": {
          "base_uri": "https://localhost:8080/"
        },
        "id": "qHEHUSnjkAei",
        "outputId": "0c65e80d-8c54-44a6-b6e9-dce74715e7c1"
      },
      "execution_count": 218,
      "outputs": [
        {
          "output_type": "execute_result",
          "data": {
            "text/plain": [
              "array(['Undetermined', 'Intrauterine hypoxia',\n",
              "       'Severe acute malnutrition - Kwashiorkor', 'Sepsis',\n",
              "       'Pneumonia. unspecified', 'Pneumonia, unspecified',\n",
              "       'Hyaline membrane disease', 'Birth asphyxia',\n",
              "       'Severe acute malnutrition', 'Low birth weight',\n",
              "       'Chromosomal abnormality', 'Intrauterine hypoxia ', 'Preterm baby',\n",
              "       'Retardation intrauterine growth', 'Meconium aspiration syndrome',\n",
              "       'intrauterine hypoxia', 'Preterm', 'Gastroenteritis',\n",
              "       'Respiratory distress syndrome/HMD', 'Hydrocephalus',\n",
              "       'Neural tube defect', 'Hydrops fetalis',\n",
              "       'Neural tube defect - spina bifida',\n",
              "       'Bacterial sepsis of newborn ', 'Measles',\n",
              "       'Congenital muscular-skeletal abnormality',\n",
              "       'Congenital malformation syndrome', 'Meconium aspiration',\n",
              "       'hydrops fetalis', 'Neonatal jaundice',\n",
              "       'Neural tube defect -Lumbar spina bifida',\n",
              "       'Congenital malformation ', 'Low birth weigth',\n",
              "       'Intrauterine growth restriction', 'Intrauterine Hyopxia',\n",
              "       'Respiratory distress syndrome', 'Polycystic kidney disease',\n",
              "       'Congenital toxoplasmosis', 'Craniorachischisis',\n",
              "       'RH isoimmuzation', 'Portal Hypertension',\n",
              "       'Severe acute malnutrition (Marasmus)', 'Pneumonitis', 'LBW',\n",
              "       'Severe acute malnutrition- Kashiorkor', 'Acute Gastroenteritis',\n",
              "       'Severe acute malnutrition (KW marasmic)',\n",
              "       'Severe acute malnutrion', 'Severe acute malnutrition ',\n",
              "       'Severe acute malnutrition (KW)',\n",
              "       'Severe acute malnutrition (KW marasmatic)',\n",
              "       'Severe acute malnutrition (KW Marasmic)',\n",
              "       'Severe acute malnutrition( Marasmus)',\n",
              "       'Infections of the skin and other subcutaneous tissue',\n",
              "       'Severe acute malnutrition(Marasmus)',\n",
              "       'Severe acute malnutrition-Kwashiorkor',\n",
              "       'severe acute malnutrition, Marasmic Kwashiorkor',\n",
              "       'Neural tube defect - Craniorachischisis',\n",
              "       'Severe acute malnutrition - Marasmic kwashiorkor',\n",
              "       'Intrauterine growth restriction ', 'Congenital CMV infection',\n",
              "       'Lumbar spina bifida with hydrocephalus / caudal regression',\n",
              "       'Neural tube defect - Anencephaly',\n",
              "       'Accidental suffocation and strangulation in bed',\n",
              "       'Preterm infant', 'Neural tube defect - iniencephaly',\n",
              "       'Neural tube defect -Craniorachischisis',\n",
              "       'Pneumonia, polymicrobial', 'Intrauterine hypixa',\n",
              "       'Thoracic spina bifida with hydrocephalus',\n",
              "       'Chromosomal abnormality - Down syndrome ', 'Extreme immaturity',\n",
              "       'Iniencephaly', ' Craniorachischisis', 'Neonatal sepsis',\n",
              "       'Pneumonia',\n",
              "       'Congenital malformations of the musculoskeletal system, not elsewhere classified',\n",
              "       'Unspecified parasitic disease ', 'Anencephaly',\n",
              "       'Intrauterine infection ',\n",
              "       'Neural Tube Defect - lumbar spina bifida', 'Intrauterine Hypoxia',\n",
              "       'Hydrops fetalis not due to haemolytic disease',\n",
              "       'Osteochondrodysplasia with defects of growth of tubular bones and spine',\n",
              "       'Lumbar spina bifida with hydrocephalus',\n",
              "       'Light for Gestational Age ', ' Preterm baby',\n",
              "       'Bacterial sepsis of newborn',\n",
              "       'Hypoxic Ischemic Encephalopathy of Newborn ',\n",
              "       'Congenital pneumonia',\n",
              "       'Congenital malformation syndromes predominantly affecting facial appearance',\n",
              "       'Marasmus', 'Anencephaly and similar malformations',\n",
              "       'Lumbar spina bifida without hydrocephalus',\n",
              "       'Thoracic spine bifida ',\n",
              "       'Congenital malformation syndromes predominantly affecting facial appearance (Cyclopia)',\n",
              "       'Bacterial sepsis of the newborn'], dtype=object)"
            ]
          },
          "metadata": {},
          "execution_count": 218
        }
      ]
    },
    {
      "cell_type": "code",
      "source": [
        "## What are the magnitude and proportion of each of the infant underlying cause for child death?\n",
        "cause_of_death = df_renamed['underlying cause']\n",
        "cause_counts = cause_of_death.value_counts()\n",
        "# Calculate total deaths\n",
        "total_deaths = len(cause_of_death)\n",
        "\n",
        "# Calculate proportion of deaths for each underlying cause\n",
        "proportion_deaths = (cause_counts / total_deaths) * 100"
      ],
      "metadata": {
        "id": "Sh_BPQjdNiw_"
      },
      "execution_count": 219,
      "outputs": []
    },
    {
      "cell_type": "code",
      "source": [
        "print(proportion_deaths)"
      ],
      "metadata": {
        "colab": {
          "base_uri": "https://localhost:8080/"
        },
        "id": "mUn-YNeJjQCU",
        "outputId": "fc9291cd-5f88-4e8c-9fb2-d6909c3890cf"
      },
      "execution_count": 220,
      "outputs": [
        {
          "output_type": "stream",
          "name": "stdout",
          "text": [
            "underlying cause\n",
            "Intrauterine hypoxia                                33.333333\n",
            "Birth asphyxia                                       7.432432\n",
            "Undetermined                                         6.306306\n",
            "Severe acute malnutrition                            5.405405\n",
            "Craniorachischisis                                   3.603604\n",
            "                                                      ...    \n",
            "Severe acute malnutrition-Kwashiorkor                0.225225\n",
            "severe acute malnutrition, Marasmic Kwashiorkor      0.225225\n",
            "Severe acute malnutrition - Marasmic kwashiorkor     0.225225\n",
            "Congenital CMV infection                             0.225225\n",
            "Bacterial sepsis of the newborn                      0.225225\n",
            "Name: count, Length: 97, dtype: float64\n"
          ]
        }
      ]
    },
    {
      "cell_type": "code",
      "source": [
        "# Print results in a formatted table\n",
        "print(\"Infant Underlying Cause of Death | Magnitude | Proportion (%)\")\n",
        "print(\"----------------------------------|----------|--------------\")\n",
        "for cause, count in cause_counts.items():\n",
        "  proportion = proportion_deaths[cause]\n",
        "  print(f\"{cause} | {count} | {proportion:.2f}\")"
      ],
      "metadata": {
        "colab": {
          "base_uri": "https://localhost:8080/"
        },
        "id": "C_2XJLtvlU5s",
        "outputId": "a590b661-77fe-4736-c74d-20a6cf84b36f"
      },
      "execution_count": 221,
      "outputs": [
        {
          "output_type": "stream",
          "name": "stdout",
          "text": [
            "Infant Underlying Cause of Death | Magnitude | Proportion (%)\n",
            "----------------------------------|----------|--------------\n",
            "Intrauterine hypoxia | 148 | 33.33\n",
            "Birth asphyxia | 33 | 7.43\n",
            "Undetermined | 28 | 6.31\n",
            "Severe acute malnutrition | 24 | 5.41\n",
            "Craniorachischisis | 16 | 3.60\n",
            "Respiratory distress syndrome | 15 | 3.38\n",
            "Sepsis | 11 | 2.48\n",
            "Intrauterine growth restriction | 10 | 2.25\n",
            "Preterm baby | 9 | 2.03\n",
            "Low birth weight | 8 | 1.80\n",
            "Meconium aspiration syndrome | 7 | 1.58\n",
            "Pneumonia | 6 | 1.35\n",
            "Intrauterine hypoxia  | 5 | 1.13\n",
            "Preterm infant | 5 | 1.13\n",
            "Anencephaly | 5 | 1.13\n",
            "Hyaline membrane disease | 4 | 0.90\n",
            "Thoracic spina bifida with hydrocephalus | 4 | 0.90\n",
            "Bacterial sepsis of newborn | 4 | 0.90\n",
            "Measles | 3 | 0.68\n",
            "Iniencephaly | 3 | 0.68\n",
            "Lumbar spina bifida with hydrocephalus | 3 | 0.68\n",
            "Severe acute malnutrition  | 3 | 0.68\n",
            "Pneumonia, unspecified | 3 | 0.68\n",
            "Intrauterine growth restriction  | 2 | 0.45\n",
            "Severe acute malnutrition - Kwashiorkor | 2 | 0.45\n",
            "Neural tube defect -Craniorachischisis | 2 | 0.45\n",
            "Bacterial sepsis of newborn  | 2 | 0.45\n",
            "Neural tube defect - Craniorachischisis | 2 | 0.45\n",
            "Gastroenteritis | 2 | 0.45\n",
            "Severe acute malnutrion | 2 | 0.45\n",
            "Intrauterine infection  | 2 | 0.45\n",
            "Preterm | 2 | 0.45\n",
            "Neural tube defect - Anencephaly | 2 | 0.45\n",
            "Hydrops fetalis | 2 | 0.45\n",
            "Congenital malformation syndrome | 2 | 0.45\n",
            "Neural tube defect -Lumbar spina bifida | 2 | 0.45\n",
            "Congenital pneumonia | 1 | 0.23\n",
            "Chromosomal abnormality | 1 | 0.23\n",
            "Neural tube defect - iniencephaly | 1 | 0.23\n",
            "Congenital malformation syndromes predominantly affecting facial appearance (Cyclopia) | 1 | 0.23\n",
            "Pneumonia, polymicrobial | 1 | 0.23\n",
            "Intrauterine hypixa | 1 | 0.23\n",
            "intrauterine hypoxia | 1 | 0.23\n",
            "Chromosomal abnormality - Down syndrome  | 1 | 0.23\n",
            "Extreme immaturity | 1 | 0.23\n",
            "Retardation intrauterine growth | 1 | 0.23\n",
            " Craniorachischisis | 1 | 0.23\n",
            "Neonatal sepsis | 1 | 0.23\n",
            "Thoracic spine bifida  | 1 | 0.23\n",
            "Hypoxic Ischemic Encephalopathy of Newborn  | 1 | 0.23\n",
            "Lumbar spina bifida without hydrocephalus | 1 | 0.23\n",
            "Congenital malformations of the musculoskeletal system, not elsewhere classified | 1 | 0.23\n",
            "Unspecified parasitic disease  | 1 | 0.23\n",
            "Anencephaly and similar malformations | 1 | 0.23\n",
            "Marasmus | 1 | 0.23\n",
            "Intrauterine Hypoxia | 1 | 0.23\n",
            "Hydrops fetalis not due to haemolytic disease | 1 | 0.23\n",
            "Osteochondrodysplasia with defects of growth of tubular bones and spine | 1 | 0.23\n",
            "Pneumonia. unspecified | 1 | 0.23\n",
            "Light for Gestational Age  | 1 | 0.23\n",
            " Preterm baby | 1 | 0.23\n",
            "Congenital malformation syndromes predominantly affecting facial appearance | 1 | 0.23\n",
            "Neural Tube Defect - lumbar spina bifida | 1 | 0.23\n",
            "Neural tube defect - spina bifida | 1 | 0.23\n",
            "Accidental suffocation and strangulation in bed | 1 | 0.23\n",
            "Severe acute malnutrition (Marasmus) | 1 | 0.23\n",
            "Congenital muscular-skeletal abnormality | 1 | 0.23\n",
            "Meconium aspiration | 1 | 0.23\n",
            "hydrops fetalis | 1 | 0.23\n",
            "Neonatal jaundice | 1 | 0.23\n",
            "Congenital malformation  | 1 | 0.23\n",
            "Low birth weigth | 1 | 0.23\n",
            "Neural tube defect | 1 | 0.23\n",
            "Intrauterine Hyopxia | 1 | 0.23\n",
            "Hydrocephalus | 1 | 0.23\n",
            "Polycystic kidney disease | 1 | 0.23\n",
            "Congenital toxoplasmosis | 1 | 0.23\n",
            "Respiratory distress syndrome/HMD | 1 | 0.23\n",
            "RH isoimmuzation | 1 | 0.23\n",
            "Portal Hypertension | 1 | 0.23\n",
            "Pneumonitis | 1 | 0.23\n",
            "Lumbar spina bifida with hydrocephalus / caudal regression | 1 | 0.23\n",
            "LBW | 1 | 0.23\n",
            "Severe acute malnutrition- Kashiorkor | 1 | 0.23\n",
            "Acute Gastroenteritis | 1 | 0.23\n",
            "Severe acute malnutrition (KW marasmic) | 1 | 0.23\n",
            "Severe acute malnutrition (KW) | 1 | 0.23\n",
            "Severe acute malnutrition (KW marasmatic) | 1 | 0.23\n",
            "Severe acute malnutrition (KW Marasmic) | 1 | 0.23\n",
            "Severe acute malnutrition( Marasmus) | 1 | 0.23\n",
            "Infections of the skin and other subcutaneous tissue | 1 | 0.23\n",
            "Severe acute malnutrition(Marasmus) | 1 | 0.23\n",
            "Severe acute malnutrition-Kwashiorkor | 1 | 0.23\n",
            "severe acute malnutrition, Marasmic Kwashiorkor | 1 | 0.23\n",
            "Severe acute malnutrition - Marasmic kwashiorkor | 1 | 0.23\n",
            "Congenital CMV infection | 1 | 0.23\n",
            "Bacterial sepsis of the newborn | 1 | 0.23\n"
          ]
        }
      ]
    },
    {
      "cell_type": "markdown",
      "source": [
        "#B. What are the proportion and magnitude of the maternal factors contributing for child death?"
      ],
      "metadata": {
        "id": "suX98G4uktq5"
      }
    },
    {
      "cell_type": "code",
      "source": [
        "cause_of_death = df_renamed['Main maternal disease condition affecting the child/fetus']\n",
        "cause_counts = cause_of_death.value_counts()\n",
        "# Calculate total deaths\n",
        "total_deaths = len(cause_of_death)\n",
        "\n",
        "# Calculate proportion of deaths for each underlying cause\n",
        "proportion_deaths = (cause_counts / total_deaths) * 100\n",
        "print(proportion_deaths)"
      ],
      "metadata": {
        "colab": {
          "base_uri": "https://localhost:8080/"
        },
        "id": "IMRkNx5XO89W",
        "outputId": "4342a94b-02b3-4c94-bb14-1323cf97fc28"
      },
      "execution_count": 222,
      "outputs": [
        {
          "output_type": "stream",
          "name": "stdout",
          "text": [
            "Main maternal disease condition affecting the child/fetus\n",
            "Preeclampsia                                                                                             8.108108\n",
            "Twin pregnancy                                                                                           2.702703\n",
            "Fetus and newborn affected by other forms of placental separation and hemorrhage (Abruption placenta)    2.477477\n",
            "Eclampsia                                                                                                2.027027\n",
            "Fetus and newborn affected by other forms of placental separation and hemorrhage                         1.126126\n",
            "                                                                                                           ...   \n",
            "Fetus and newborn affected by oligohydramnios                                                            0.225225\n",
            "Fetus and newborn affected by maternal diabetes                                                          0.225225\n",
            "Fetus and newborn affected by maternal infectious and parasitic diseases (HIV)                           0.225225\n",
            "Fetus and newborn affected by multiple pregnancy:  Quadruplet (pregnancy),                               0.225225\n",
            "Pre-labor rapture of membrane                                                                            0.225225\n",
            "Name: count, Length: 97, dtype: float64\n"
          ]
        }
      ]
    },
    {
      "cell_type": "code",
      "source": [
        "# Print results in a formatted table\n",
        "print(\"Main maternal disease condition affecting the child/fetus' | Magnitude | Proportion (%)\")\n",
        "print(\"----------------------------------|----------|--------------\")\n",
        "for cause, count in cause_counts.items():\n",
        "  proportion = proportion_deaths[cause]\n",
        "  print(f\"{cause} | {count} | {proportion:.2f}\")"
      ],
      "metadata": {
        "colab": {
          "base_uri": "https://localhost:8080/"
        },
        "id": "LdUbf-SjoH0Q",
        "outputId": "17c84139-9577-40c1-ebe6-5237aadc3b85"
      },
      "execution_count": 223,
      "outputs": [
        {
          "output_type": "stream",
          "name": "stdout",
          "text": [
            "Main maternal disease condition affecting the child/fetus' | Magnitude | Proportion (%)\n",
            "----------------------------------|----------|--------------\n",
            "Preeclampsia | 36 | 8.11\n",
            "Twin pregnancy | 12 | 2.70\n",
            "Fetus and newborn affected by other forms of placental separation and hemorrhage (Abruption placenta) | 11 | 2.48\n",
            "Eclampsia | 9 | 2.03\n",
            "Fetus and newborn affected by other forms of placental separation and hemorrhage  | 5 | 1.13\n",
            "Fetus and newborn affected by other malpresentation, malposition, and disproportion during labor and delivery | 5 | 1.13\n",
            "Uterine rupture | 3 | 0.68\n",
            "Fetus and newborn affected by multiple pregnancy: Twin (pregnancy)  | 3 | 0.68\n",
            "Abruption placenta | 3 | 0.68\n",
            "Fetus and newborn affected by chorioamnionitis  | 3 | 0.68\n",
            "preeclampsia | 3 | 0.68\n",
            "Undetermined | 2 | 0.45\n",
            "Fetus and newborn affected by placenta previa  | 2 | 0.45\n",
            "Fetus affected by cord prolapse | 2 | 0.45\n",
            "Antepartum hemorrhage | 2 | 0.45\n",
            "Chorioamnionitis | 2 | 0.45\n",
            "Fetus affected by breech presentation | 2 | 0.45\n",
            "Fetus and newborn affected by multiple pregnancy:  Twin pregnancy  | 2 | 0.45\n",
            "Fetus and newborn affected by other forms of placental separation and haemorrhage | 2 | 0.45\n",
            "Preterm rupture of membranes | 2 | 0.45\n",
            "Fetus and newborn affected by other forms of placental separation and hemorrhage (Abruption placentae) | 2 | 0.45\n",
            "Fetus and newborn affected by other forms of placental separation and hemorrhage: Abruptio placentae | 2 | 0.45\n",
            "Premature rupture of membrane | 2 | 0.45\n",
            "Premature rupture of membranes, onset of labour after 24 hours | 2 | 0.45\n",
            "Fetus and newborn affected by placental separation and hemorrhage | 2 | 0.45\n",
            "Preterm labour | 2 | 0.45\n",
            "Fetus affected by placenta separation (abruption placenta) | 2 | 0.45\n",
            "Fetus affected by placenta separation (Abruption placenta) | 2 | 0.45\n",
            "Fetus affected by malpresentation, malposition and disproportion during labor and delivery | 2 | 0.45\n",
            "Fetus affected by gestational hypertensive disorder | 1 | 0.23\n",
            "Premature & prolonged rupture of membrane | 1 | 0.23\n",
            "Eclampsia /HELLP Syndrome  | 1 | 0.23\n",
            "Fetus affected by placenta previa | 1 | 0.23\n",
            "Cord prolapse | 1 | 0.23\n",
            "Breech presentation | 1 | 0.23\n",
            "Fetus affected by antepartum hemorrahge | 1 | 0.23\n",
            "Fetus and newborn affected by disproportion during labor and delivery(due to hydrocephalus)  | 1 | 0.23\n",
            "Fetus and newborn affected by other and unspecified morphological and functional abnormalities of placenta  | 1 | 0.23\n",
            "Premature rupture of membrane onset labor after 24h  | 1 | 0.23\n",
            "Fetus and newborn affected by complications of placenta, cord and membranes  | 1 | 0.23\n",
            "Gestational hypertension disorder | 1 | 0.23\n",
            "Fetus and newborn affected by disproportion during labor and delivery | 1 | 0.23\n",
            "Fetus affected by placenta separation (abruption placentae) | 1 | 0.23\n",
            "Fetus affected by placenta separation (Abruption placentae) | 1 | 0.23\n",
            "Premature rupture of membranes, unspecified | 1 | 0.23\n",
            "Pre-labour preterm rupture of membranes | 1 | 0.23\n",
            "Fetus affected by placenta separation (Abruption placenta with hypovolemic shock) | 1 | 0.23\n",
            "Fetus and newborn affected by precipitate delivery, Rapid second stage  | 1 | 0.23\n",
            "Chronic liver disease | 1 | 0.23\n",
            "Fetus and newborn affected by multiple pregnancy: Triplets | 1 | 0.23\n",
            "Fetus and newborn affected by other and unspecified morphological and functional abnormalities of placenta: placental infarction  | 1 | 0.23\n",
            "Fetus and newborn affected by abruption placentae | 1 | 0.23\n",
            "Fetus affected by placenta separation (abruption placenta 50%) | 1 | 0.23\n",
            "Fetus and newborn affected by malpresentation and obstructed labor  | 1 | 0.23\n",
            "Fetus and newborn affected by other malpresentation (transverse lie) | 1 | 0.23\n",
            "Fetus affected by maternal hypertensive disorder | 1 | 0.23\n",
            "Premature rupture of membrane onset of labour after 24h | 1 | 0.23\n",
            "Fetus and newborn affected by other forms of placental separation and hemorrhage (Antepartum haemorrhage) | 1 | 0.23\n",
            "Eclampsia/HELLP | 1 | 0.23\n",
            "Fetus and newborn affected by other forms of placental separation and hemorrhage (Antepartum haemorrhage)  | 1 | 0.23\n",
            "Fetus affected by malpresentation (Face) , malposition and disproportion during labor and delivery  | 1 | 0.23\n",
            "Abruptio placenta | 1 | 0.23\n",
            "Preterm labor | 1 | 0.23\n",
            "RH Negative | 1 | 0.23\n",
            "Fetus and newborn affected by prolapsed cord  | 1 | 0.23\n",
            "Fetus and newborn affected by multiple pregnancy | 1 | 0.23\n",
            "Fetus and newborn affected by other forms of placental separation and hemorrhage (Antepartum hemorrhage) | 1 | 0.23\n",
            "Severe preeclampsia | 1 | 0.23\n",
            "Fetus affected by malpresentation, breech delivery and extraction | 1 | 0.23\n",
            "Fetus and newborn affected by other specified complications of labour and delivery (Uterus rupture) (P03.8) | 1 | 0.23\n",
            "Prolonged pregnancy | 1 | 0.23\n",
            "Newborn affected by preterm labour  | 1 | 0.23\n",
            "Fetus affected by twin-to-twin placental transfusion syndrome | 1 | 0.23\n",
            "Fetus affected by prolapsed cord  | 1 | 0.23\n",
            "Fetus and newborn affected by placental separation and hemorrhage  | 1 | 0.23\n",
            "Fetus affected by placental separation and hemorrhage (Abruption placentae) | 1 | 0.23\n",
            "Fetus affected by other and unspecified morphological and functional abnormalities of placenta Placental: dysfunction, infarction | 1 | 0.23\n",
            "Precipitated labour | 1 | 0.23\n",
            "Fetus and newborn affected by other and unspecified morphological and functional abnormalities of placenta (placenta infarction) | 1 | 0.23\n",
            "Maternal sickness: Fetus and newborn affected by unspecified maternal condition  | 1 | 0.23\n",
            "Fetus and newborn affected by multiple pregnancy:  Quadruplet pregnancy  | 1 | 0.23\n",
            "Fetus and newborn affected by breech delivery and extraction | 1 | 0.23\n",
            "Fetus and newborn affected by prolapsed cord | 1 | 0.23\n",
            "Fetus and newborn affected by other forms of placental separation and hemorrhage (Abruptio placentae) | 1 | 0.23\n",
            "Fetus and newborn affected by other malpresentation, malposition and disproportion during labour and delivery (transverse lie, neglected shoulder presentation) | 1 | 0.23\n",
            "Fetus and newborn affected by premature rupture of membranes | 1 | 0.23\n",
            "Fetus and newborn affected by other malpresentation, malposition, and disproportion during labor and delivery  | 1 | 0.23\n",
            "Fetus and newborn affected by other specified complications of labour and delivery - prolonged labour | 1 | 0.23\n",
            "Pre-existing diabetes mellitus, insulin-dependent | 1 | 0.23\n",
            "Fetus and newborn affected by other forms of placental separation and hemorrhage (Antepartum haemorrhage / placenta praevia) | 1 | 0.23\n",
            "Obstructed labor | 1 | 0.23\n",
            "Fetus and newborn affected by preterm labor | 1 | 0.23\n",
            "Fetus and newborn affected by oligohydramnios | 1 | 0.23\n",
            "Fetus and newborn affected by maternal diabetes | 1 | 0.23\n",
            "Fetus and newborn affected by maternal infectious and parasitic diseases (HIV) | 1 | 0.23\n",
            "Fetus and newborn affected by multiple pregnancy:  Quadruplet (pregnancy),  | 1 | 0.23\n",
            "Pre-labor rapture of membrane | 1 | 0.23\n"
          ]
        }
      ]
    },
    {
      "cell_type": "markdown",
      "source": [
        "# C. What are the proportion of the child death by the case type"
      ],
      "metadata": {
        "id": "eLvkSRzYotKw"
      }
    },
    {
      "cell_type": "code",
      "source": [
        "cause_of_death = df_renamed['case_type']\n",
        "cause_counts = cause_of_death.value_counts()\n",
        "# Calculate total deaths\n",
        "total_deaths = len(cause_of_death)\n",
        "\n",
        "# Calculate proportion of deaths for each underlying cause\n",
        "proportion_deaths = (cause_counts / total_deaths) * 100\n",
        "print(proportion_deaths)"
      ],
      "metadata": {
        "colab": {
          "base_uri": "https://localhost:8080/"
        },
        "id": "3pZAyidIow50",
        "outputId": "64ac69d1-93ed-472e-f323-ce7c2a6f6ff2"
      },
      "execution_count": 224,
      "outputs": [
        {
          "output_type": "stream",
          "name": "stdout",
          "text": [
            "case_type\n",
            "Stillbirth                     53.828829\n",
            "Infant                         15.540541\n",
            "Child                          11.036036\n",
            "Death in the first 24 hours     9.459459\n",
            "Late Neonate                    6.081081\n",
            "Early Neonate                   4.054054\n",
            "Name: count, dtype: float64\n"
          ]
        }
      ]
    },
    {
      "cell_type": "code",
      "source": [
        "# Print results in a formatted table\n",
        "print(\"case type' | Magnitude | Proportion (%)\")\n",
        "print(\"----------------------------------|----------|--------------\")\n",
        "for cause, count in cause_counts.items():\n",
        "  proportion = proportion_deaths[cause]\n",
        "  print(f\"{cause} | {count} | {proportion:.2f}\")"
      ],
      "metadata": {
        "colab": {
          "base_uri": "https://localhost:8080/"
        },
        "id": "QZurBm9DpBMf",
        "outputId": "93489720-6da2-460d-8712-2bb6d610a538"
      },
      "execution_count": 225,
      "outputs": [
        {
          "output_type": "stream",
          "name": "stdout",
          "text": [
            "case type' | Magnitude | Proportion (%)\n",
            "----------------------------------|----------|--------------\n",
            "Stillbirth | 239 | 53.83\n",
            "Infant | 69 | 15.54\n",
            "Child | 49 | 11.04\n",
            "Death in the first 24 hours | 42 | 9.46\n",
            "Late Neonate | 27 | 6.08\n",
            "Early Neonate | 18 | 4.05\n"
          ]
        }
      ]
    },
    {
      "cell_type": "markdown",
      "source": [
        "## 2.Correlation analysis: Using correlation or Heat Maps, show how each of the infant under lying conditions and maternal factors are correlated to the top three causes of the child death identified above under 2(A)"
      ],
      "metadata": {
        "id": "BN39XmlwpZAQ"
      }
    },
    {
      "cell_type": "code",
      "source": [
        "filtered_df = df_renamed[['underlying cause', 'Main maternal disease condition affecting the child/fetus', 'case_type']] #Selectining the three columns of the data frame\n",
        "filtered_df.head()"
      ],
      "metadata": {
        "colab": {
          "base_uri": "https://localhost:8080/",
          "height": 241
        },
        "id": "-yYi7ke80z-r",
        "outputId": "71c94ef0-16eb-4a09-d912-fbcc065de9a9"
      },
      "execution_count": 226,
      "outputs": [
        {
          "output_type": "execute_result",
          "data": {
            "text/plain": [
              "                          underlying cause  \\\n",
              "0                             Undetermined   \n",
              "1                             Undetermined   \n",
              "2                     Intrauterine hypoxia   \n",
              "3  Severe acute malnutrition - Kwashiorkor   \n",
              "4                                   Sepsis   \n",
              "\n",
              "  Main maternal disease condition affecting the child/fetus  \\\n",
              "0                                       Undetermined          \n",
              "1                                       Undetermined          \n",
              "2  Fetus and newborn affected by other forms of p...          \n",
              "3                                                NaN          \n",
              "4                                                NaN          \n",
              "\n",
              "                     case_type  \n",
              "0                   Stillbirth  \n",
              "1                   Stillbirth  \n",
              "2                   Stillbirth  \n",
              "3  Death in the first 24 hours  \n",
              "4                Early Neonate  "
            ],
            "text/html": [
              "\n",
              "  <div id=\"df-b3542ee7-ca5b-4116-bf3e-9411e73bb187\" class=\"colab-df-container\">\n",
              "    <div>\n",
              "<style scoped>\n",
              "    .dataframe tbody tr th:only-of-type {\n",
              "        vertical-align: middle;\n",
              "    }\n",
              "\n",
              "    .dataframe tbody tr th {\n",
              "        vertical-align: top;\n",
              "    }\n",
              "\n",
              "    .dataframe thead th {\n",
              "        text-align: right;\n",
              "    }\n",
              "</style>\n",
              "<table border=\"1\" class=\"dataframe\">\n",
              "  <thead>\n",
              "    <tr style=\"text-align: right;\">\n",
              "      <th></th>\n",
              "      <th>underlying cause</th>\n",
              "      <th>Main maternal disease condition affecting the child/fetus</th>\n",
              "      <th>case_type</th>\n",
              "    </tr>\n",
              "  </thead>\n",
              "  <tbody>\n",
              "    <tr>\n",
              "      <th>0</th>\n",
              "      <td>Undetermined</td>\n",
              "      <td>Undetermined</td>\n",
              "      <td>Stillbirth</td>\n",
              "    </tr>\n",
              "    <tr>\n",
              "      <th>1</th>\n",
              "      <td>Undetermined</td>\n",
              "      <td>Undetermined</td>\n",
              "      <td>Stillbirth</td>\n",
              "    </tr>\n",
              "    <tr>\n",
              "      <th>2</th>\n",
              "      <td>Intrauterine hypoxia</td>\n",
              "      <td>Fetus and newborn affected by other forms of p...</td>\n",
              "      <td>Stillbirth</td>\n",
              "    </tr>\n",
              "    <tr>\n",
              "      <th>3</th>\n",
              "      <td>Severe acute malnutrition - Kwashiorkor</td>\n",
              "      <td>NaN</td>\n",
              "      <td>Death in the first 24 hours</td>\n",
              "    </tr>\n",
              "    <tr>\n",
              "      <th>4</th>\n",
              "      <td>Sepsis</td>\n",
              "      <td>NaN</td>\n",
              "      <td>Early Neonate</td>\n",
              "    </tr>\n",
              "  </tbody>\n",
              "</table>\n",
              "</div>\n",
              "    <div class=\"colab-df-buttons\">\n",
              "\n",
              "  <div class=\"colab-df-container\">\n",
              "    <button class=\"colab-df-convert\" onclick=\"convertToInteractive('df-b3542ee7-ca5b-4116-bf3e-9411e73bb187')\"\n",
              "            title=\"Convert this dataframe to an interactive table.\"\n",
              "            style=\"display:none;\">\n",
              "\n",
              "  <svg xmlns=\"http://www.w3.org/2000/svg\" height=\"24px\" viewBox=\"0 -960 960 960\">\n",
              "    <path d=\"M120-120v-720h720v720H120Zm60-500h600v-160H180v160Zm220 220h160v-160H400v160Zm0 220h160v-160H400v160ZM180-400h160v-160H180v160Zm440 0h160v-160H620v160ZM180-180h160v-160H180v160Zm440 0h160v-160H620v160Z\"/>\n",
              "  </svg>\n",
              "    </button>\n",
              "\n",
              "  <style>\n",
              "    .colab-df-container {\n",
              "      display:flex;\n",
              "      gap: 12px;\n",
              "    }\n",
              "\n",
              "    .colab-df-convert {\n",
              "      background-color: #E8F0FE;\n",
              "      border: none;\n",
              "      border-radius: 50%;\n",
              "      cursor: pointer;\n",
              "      display: none;\n",
              "      fill: #1967D2;\n",
              "      height: 32px;\n",
              "      padding: 0 0 0 0;\n",
              "      width: 32px;\n",
              "    }\n",
              "\n",
              "    .colab-df-convert:hover {\n",
              "      background-color: #E2EBFA;\n",
              "      box-shadow: 0px 1px 2px rgba(60, 64, 67, 0.3), 0px 1px 3px 1px rgba(60, 64, 67, 0.15);\n",
              "      fill: #174EA6;\n",
              "    }\n",
              "\n",
              "    .colab-df-buttons div {\n",
              "      margin-bottom: 4px;\n",
              "    }\n",
              "\n",
              "    [theme=dark] .colab-df-convert {\n",
              "      background-color: #3B4455;\n",
              "      fill: #D2E3FC;\n",
              "    }\n",
              "\n",
              "    [theme=dark] .colab-df-convert:hover {\n",
              "      background-color: #434B5C;\n",
              "      box-shadow: 0px 1px 3px 1px rgba(0, 0, 0, 0.15);\n",
              "      filter: drop-shadow(0px 1px 2px rgba(0, 0, 0, 0.3));\n",
              "      fill: #FFFFFF;\n",
              "    }\n",
              "  </style>\n",
              "\n",
              "    <script>\n",
              "      const buttonEl =\n",
              "        document.querySelector('#df-b3542ee7-ca5b-4116-bf3e-9411e73bb187 button.colab-df-convert');\n",
              "      buttonEl.style.display =\n",
              "        google.colab.kernel.accessAllowed ? 'block' : 'none';\n",
              "\n",
              "      async function convertToInteractive(key) {\n",
              "        const element = document.querySelector('#df-b3542ee7-ca5b-4116-bf3e-9411e73bb187');\n",
              "        const dataTable =\n",
              "          await google.colab.kernel.invokeFunction('convertToInteractive',\n",
              "                                                    [key], {});\n",
              "        if (!dataTable) return;\n",
              "\n",
              "        const docLinkHtml = 'Like what you see? Visit the ' +\n",
              "          '<a target=\"_blank\" href=https://colab.research.google.com/notebooks/data_table.ipynb>data table notebook</a>'\n",
              "          + ' to learn more about interactive tables.';\n",
              "        element.innerHTML = '';\n",
              "        dataTable['output_type'] = 'display_data';\n",
              "        await google.colab.output.renderOutput(dataTable, element);\n",
              "        const docLink = document.createElement('div');\n",
              "        docLink.innerHTML = docLinkHtml;\n",
              "        element.appendChild(docLink);\n",
              "      }\n",
              "    </script>\n",
              "  </div>\n",
              "\n",
              "\n",
              "<div id=\"df-2cb1d29b-1e6b-45e6-a543-01b48bffd44c\">\n",
              "  <button class=\"colab-df-quickchart\" onclick=\"quickchart('df-2cb1d29b-1e6b-45e6-a543-01b48bffd44c')\"\n",
              "            title=\"Suggest charts\"\n",
              "            style=\"display:none;\">\n",
              "\n",
              "<svg xmlns=\"http://www.w3.org/2000/svg\" height=\"24px\"viewBox=\"0 0 24 24\"\n",
              "     width=\"24px\">\n",
              "    <g>\n",
              "        <path d=\"M19 3H5c-1.1 0-2 .9-2 2v14c0 1.1.9 2 2 2h14c1.1 0 2-.9 2-2V5c0-1.1-.9-2-2-2zM9 17H7v-7h2v7zm4 0h-2V7h2v10zm4 0h-2v-4h2v4z\"/>\n",
              "    </g>\n",
              "</svg>\n",
              "  </button>\n",
              "\n",
              "<style>\n",
              "  .colab-df-quickchart {\n",
              "      --bg-color: #E8F0FE;\n",
              "      --fill-color: #1967D2;\n",
              "      --hover-bg-color: #E2EBFA;\n",
              "      --hover-fill-color: #174EA6;\n",
              "      --disabled-fill-color: #AAA;\n",
              "      --disabled-bg-color: #DDD;\n",
              "  }\n",
              "\n",
              "  [theme=dark] .colab-df-quickchart {\n",
              "      --bg-color: #3B4455;\n",
              "      --fill-color: #D2E3FC;\n",
              "      --hover-bg-color: #434B5C;\n",
              "      --hover-fill-color: #FFFFFF;\n",
              "      --disabled-bg-color: #3B4455;\n",
              "      --disabled-fill-color: #666;\n",
              "  }\n",
              "\n",
              "  .colab-df-quickchart {\n",
              "    background-color: var(--bg-color);\n",
              "    border: none;\n",
              "    border-radius: 50%;\n",
              "    cursor: pointer;\n",
              "    display: none;\n",
              "    fill: var(--fill-color);\n",
              "    height: 32px;\n",
              "    padding: 0;\n",
              "    width: 32px;\n",
              "  }\n",
              "\n",
              "  .colab-df-quickchart:hover {\n",
              "    background-color: var(--hover-bg-color);\n",
              "    box-shadow: 0 1px 2px rgba(60, 64, 67, 0.3), 0 1px 3px 1px rgba(60, 64, 67, 0.15);\n",
              "    fill: var(--button-hover-fill-color);\n",
              "  }\n",
              "\n",
              "  .colab-df-quickchart-complete:disabled,\n",
              "  .colab-df-quickchart-complete:disabled:hover {\n",
              "    background-color: var(--disabled-bg-color);\n",
              "    fill: var(--disabled-fill-color);\n",
              "    box-shadow: none;\n",
              "  }\n",
              "\n",
              "  .colab-df-spinner {\n",
              "    border: 2px solid var(--fill-color);\n",
              "    border-color: transparent;\n",
              "    border-bottom-color: var(--fill-color);\n",
              "    animation:\n",
              "      spin 1s steps(1) infinite;\n",
              "  }\n",
              "\n",
              "  @keyframes spin {\n",
              "    0% {\n",
              "      border-color: transparent;\n",
              "      border-bottom-color: var(--fill-color);\n",
              "      border-left-color: var(--fill-color);\n",
              "    }\n",
              "    20% {\n",
              "      border-color: transparent;\n",
              "      border-left-color: var(--fill-color);\n",
              "      border-top-color: var(--fill-color);\n",
              "    }\n",
              "    30% {\n",
              "      border-color: transparent;\n",
              "      border-left-color: var(--fill-color);\n",
              "      border-top-color: var(--fill-color);\n",
              "      border-right-color: var(--fill-color);\n",
              "    }\n",
              "    40% {\n",
              "      border-color: transparent;\n",
              "      border-right-color: var(--fill-color);\n",
              "      border-top-color: var(--fill-color);\n",
              "    }\n",
              "    60% {\n",
              "      border-color: transparent;\n",
              "      border-right-color: var(--fill-color);\n",
              "    }\n",
              "    80% {\n",
              "      border-color: transparent;\n",
              "      border-right-color: var(--fill-color);\n",
              "      border-bottom-color: var(--fill-color);\n",
              "    }\n",
              "    90% {\n",
              "      border-color: transparent;\n",
              "      border-bottom-color: var(--fill-color);\n",
              "    }\n",
              "  }\n",
              "</style>\n",
              "\n",
              "  <script>\n",
              "    async function quickchart(key) {\n",
              "      const quickchartButtonEl =\n",
              "        document.querySelector('#' + key + ' button');\n",
              "      quickchartButtonEl.disabled = true;  // To prevent multiple clicks.\n",
              "      quickchartButtonEl.classList.add('colab-df-spinner');\n",
              "      try {\n",
              "        const charts = await google.colab.kernel.invokeFunction(\n",
              "            'suggestCharts', [key], {});\n",
              "      } catch (error) {\n",
              "        console.error('Error during call to suggestCharts:', error);\n",
              "      }\n",
              "      quickchartButtonEl.classList.remove('colab-df-spinner');\n",
              "      quickchartButtonEl.classList.add('colab-df-quickchart-complete');\n",
              "    }\n",
              "    (() => {\n",
              "      let quickchartButtonEl =\n",
              "        document.querySelector('#df-2cb1d29b-1e6b-45e6-a543-01b48bffd44c button');\n",
              "      quickchartButtonEl.style.display =\n",
              "        google.colab.kernel.accessAllowed ? 'block' : 'none';\n",
              "    })();\n",
              "  </script>\n",
              "</div>\n",
              "\n",
              "    </div>\n",
              "  </div>\n"
            ],
            "application/vnd.google.colaboratory.intrinsic+json": {
              "type": "dataframe",
              "variable_name": "filtered_df",
              "summary": "{\n  \"name\": \"filtered_df\",\n  \"rows\": 444,\n  \"fields\": [\n    {\n      \"column\": \"underlying cause\",\n      \"properties\": {\n        \"dtype\": \"category\",\n        \"num_unique_values\": 97,\n        \"samples\": [\n          \"Neural tube defect - Anencephaly\",\n          \"Portal Hypertension\",\n          \"Lumbar spina bifida without hydrocephalus\"\n        ],\n        \"semantic_type\": \"\",\n        \"description\": \"\"\n      }\n    },\n    {\n      \"column\": \"Main maternal disease condition affecting the child/fetus\",\n      \"properties\": {\n        \"dtype\": \"category\",\n        \"num_unique_values\": 97,\n        \"samples\": [\n          \"Fetus and newborn affected by other forms of placental separation and hemorrhage: Abruptio placentae\",\n          \"Fetus and newborn affected by maternal infectious and parasitic diseases (HIV)\",\n          \"Fetus and newborn affected by disproportion during labor and delivery\"\n        ],\n        \"semantic_type\": \"\",\n        \"description\": \"\"\n      }\n    },\n    {\n      \"column\": \"case_type\",\n      \"properties\": {\n        \"dtype\": \"category\",\n        \"num_unique_values\": 6,\n        \"samples\": [\n          \"Stillbirth\",\n          \"Death in the first 24 hours\",\n          \"Child\"\n        ],\n        \"semantic_type\": \"\",\n        \"description\": \"\"\n      }\n    }\n  ]\n}"
            }
          },
          "metadata": {},
          "execution_count": 226
        }
      ]
    },
    {
      "cell_type": "code",
      "source": [
        "df_corr = filtered_df[filtered_df.case_type.isin([\"Stillbirth\", \"Infant\",\"Child\"])]#selecting the top three case type\n",
        "df_corr.head()"
      ],
      "metadata": {
        "colab": {
          "base_uri": "https://localhost:8080/",
          "height": 206
        },
        "id": "6vtDYZ2KeIzM",
        "outputId": "0dc979ad-15cd-4b87-e5e3-916ed36d0690"
      },
      "execution_count": 227,
      "outputs": [
        {
          "output_type": "execute_result",
          "data": {
            "text/plain": [
              "       underlying cause  \\\n",
              "0          Undetermined   \n",
              "1          Undetermined   \n",
              "2  Intrauterine hypoxia   \n",
              "7  Intrauterine hypoxia   \n",
              "8  Intrauterine hypoxia   \n",
              "\n",
              "  Main maternal disease condition affecting the child/fetus   case_type  \n",
              "0                                       Undetermined         Stillbirth  \n",
              "1                                       Undetermined         Stillbirth  \n",
              "2  Fetus and newborn affected by other forms of p...         Stillbirth  \n",
              "7  Fetus and newborn affected by other forms of p...         Stillbirth  \n",
              "8                                    Uterine rupture         Stillbirth  "
            ],
            "text/html": [
              "\n",
              "  <div id=\"df-260b03f5-c754-45b4-85bb-44047420099e\" class=\"colab-df-container\">\n",
              "    <div>\n",
              "<style scoped>\n",
              "    .dataframe tbody tr th:only-of-type {\n",
              "        vertical-align: middle;\n",
              "    }\n",
              "\n",
              "    .dataframe tbody tr th {\n",
              "        vertical-align: top;\n",
              "    }\n",
              "\n",
              "    .dataframe thead th {\n",
              "        text-align: right;\n",
              "    }\n",
              "</style>\n",
              "<table border=\"1\" class=\"dataframe\">\n",
              "  <thead>\n",
              "    <tr style=\"text-align: right;\">\n",
              "      <th></th>\n",
              "      <th>underlying cause</th>\n",
              "      <th>Main maternal disease condition affecting the child/fetus</th>\n",
              "      <th>case_type</th>\n",
              "    </tr>\n",
              "  </thead>\n",
              "  <tbody>\n",
              "    <tr>\n",
              "      <th>0</th>\n",
              "      <td>Undetermined</td>\n",
              "      <td>Undetermined</td>\n",
              "      <td>Stillbirth</td>\n",
              "    </tr>\n",
              "    <tr>\n",
              "      <th>1</th>\n",
              "      <td>Undetermined</td>\n",
              "      <td>Undetermined</td>\n",
              "      <td>Stillbirth</td>\n",
              "    </tr>\n",
              "    <tr>\n",
              "      <th>2</th>\n",
              "      <td>Intrauterine hypoxia</td>\n",
              "      <td>Fetus and newborn affected by other forms of p...</td>\n",
              "      <td>Stillbirth</td>\n",
              "    </tr>\n",
              "    <tr>\n",
              "      <th>7</th>\n",
              "      <td>Intrauterine hypoxia</td>\n",
              "      <td>Fetus and newborn affected by other forms of p...</td>\n",
              "      <td>Stillbirth</td>\n",
              "    </tr>\n",
              "    <tr>\n",
              "      <th>8</th>\n",
              "      <td>Intrauterine hypoxia</td>\n",
              "      <td>Uterine rupture</td>\n",
              "      <td>Stillbirth</td>\n",
              "    </tr>\n",
              "  </tbody>\n",
              "</table>\n",
              "</div>\n",
              "    <div class=\"colab-df-buttons\">\n",
              "\n",
              "  <div class=\"colab-df-container\">\n",
              "    <button class=\"colab-df-convert\" onclick=\"convertToInteractive('df-260b03f5-c754-45b4-85bb-44047420099e')\"\n",
              "            title=\"Convert this dataframe to an interactive table.\"\n",
              "            style=\"display:none;\">\n",
              "\n",
              "  <svg xmlns=\"http://www.w3.org/2000/svg\" height=\"24px\" viewBox=\"0 -960 960 960\">\n",
              "    <path d=\"M120-120v-720h720v720H120Zm60-500h600v-160H180v160Zm220 220h160v-160H400v160Zm0 220h160v-160H400v160ZM180-400h160v-160H180v160Zm440 0h160v-160H620v160ZM180-180h160v-160H180v160Zm440 0h160v-160H620v160Z\"/>\n",
              "  </svg>\n",
              "    </button>\n",
              "\n",
              "  <style>\n",
              "    .colab-df-container {\n",
              "      display:flex;\n",
              "      gap: 12px;\n",
              "    }\n",
              "\n",
              "    .colab-df-convert {\n",
              "      background-color: #E8F0FE;\n",
              "      border: none;\n",
              "      border-radius: 50%;\n",
              "      cursor: pointer;\n",
              "      display: none;\n",
              "      fill: #1967D2;\n",
              "      height: 32px;\n",
              "      padding: 0 0 0 0;\n",
              "      width: 32px;\n",
              "    }\n",
              "\n",
              "    .colab-df-convert:hover {\n",
              "      background-color: #E2EBFA;\n",
              "      box-shadow: 0px 1px 2px rgba(60, 64, 67, 0.3), 0px 1px 3px 1px rgba(60, 64, 67, 0.15);\n",
              "      fill: #174EA6;\n",
              "    }\n",
              "\n",
              "    .colab-df-buttons div {\n",
              "      margin-bottom: 4px;\n",
              "    }\n",
              "\n",
              "    [theme=dark] .colab-df-convert {\n",
              "      background-color: #3B4455;\n",
              "      fill: #D2E3FC;\n",
              "    }\n",
              "\n",
              "    [theme=dark] .colab-df-convert:hover {\n",
              "      background-color: #434B5C;\n",
              "      box-shadow: 0px 1px 3px 1px rgba(0, 0, 0, 0.15);\n",
              "      filter: drop-shadow(0px 1px 2px rgba(0, 0, 0, 0.3));\n",
              "      fill: #FFFFFF;\n",
              "    }\n",
              "  </style>\n",
              "\n",
              "    <script>\n",
              "      const buttonEl =\n",
              "        document.querySelector('#df-260b03f5-c754-45b4-85bb-44047420099e button.colab-df-convert');\n",
              "      buttonEl.style.display =\n",
              "        google.colab.kernel.accessAllowed ? 'block' : 'none';\n",
              "\n",
              "      async function convertToInteractive(key) {\n",
              "        const element = document.querySelector('#df-260b03f5-c754-45b4-85bb-44047420099e');\n",
              "        const dataTable =\n",
              "          await google.colab.kernel.invokeFunction('convertToInteractive',\n",
              "                                                    [key], {});\n",
              "        if (!dataTable) return;\n",
              "\n",
              "        const docLinkHtml = 'Like what you see? Visit the ' +\n",
              "          '<a target=\"_blank\" href=https://colab.research.google.com/notebooks/data_table.ipynb>data table notebook</a>'\n",
              "          + ' to learn more about interactive tables.';\n",
              "        element.innerHTML = '';\n",
              "        dataTable['output_type'] = 'display_data';\n",
              "        await google.colab.output.renderOutput(dataTable, element);\n",
              "        const docLink = document.createElement('div');\n",
              "        docLink.innerHTML = docLinkHtml;\n",
              "        element.appendChild(docLink);\n",
              "      }\n",
              "    </script>\n",
              "  </div>\n",
              "\n",
              "\n",
              "<div id=\"df-4b0b671c-5315-4474-83d5-7425a10ea075\">\n",
              "  <button class=\"colab-df-quickchart\" onclick=\"quickchart('df-4b0b671c-5315-4474-83d5-7425a10ea075')\"\n",
              "            title=\"Suggest charts\"\n",
              "            style=\"display:none;\">\n",
              "\n",
              "<svg xmlns=\"http://www.w3.org/2000/svg\" height=\"24px\"viewBox=\"0 0 24 24\"\n",
              "     width=\"24px\">\n",
              "    <g>\n",
              "        <path d=\"M19 3H5c-1.1 0-2 .9-2 2v14c0 1.1.9 2 2 2h14c1.1 0 2-.9 2-2V5c0-1.1-.9-2-2-2zM9 17H7v-7h2v7zm4 0h-2V7h2v10zm4 0h-2v-4h2v4z\"/>\n",
              "    </g>\n",
              "</svg>\n",
              "  </button>\n",
              "\n",
              "<style>\n",
              "  .colab-df-quickchart {\n",
              "      --bg-color: #E8F0FE;\n",
              "      --fill-color: #1967D2;\n",
              "      --hover-bg-color: #E2EBFA;\n",
              "      --hover-fill-color: #174EA6;\n",
              "      --disabled-fill-color: #AAA;\n",
              "      --disabled-bg-color: #DDD;\n",
              "  }\n",
              "\n",
              "  [theme=dark] .colab-df-quickchart {\n",
              "      --bg-color: #3B4455;\n",
              "      --fill-color: #D2E3FC;\n",
              "      --hover-bg-color: #434B5C;\n",
              "      --hover-fill-color: #FFFFFF;\n",
              "      --disabled-bg-color: #3B4455;\n",
              "      --disabled-fill-color: #666;\n",
              "  }\n",
              "\n",
              "  .colab-df-quickchart {\n",
              "    background-color: var(--bg-color);\n",
              "    border: none;\n",
              "    border-radius: 50%;\n",
              "    cursor: pointer;\n",
              "    display: none;\n",
              "    fill: var(--fill-color);\n",
              "    height: 32px;\n",
              "    padding: 0;\n",
              "    width: 32px;\n",
              "  }\n",
              "\n",
              "  .colab-df-quickchart:hover {\n",
              "    background-color: var(--hover-bg-color);\n",
              "    box-shadow: 0 1px 2px rgba(60, 64, 67, 0.3), 0 1px 3px 1px rgba(60, 64, 67, 0.15);\n",
              "    fill: var(--button-hover-fill-color);\n",
              "  }\n",
              "\n",
              "  .colab-df-quickchart-complete:disabled,\n",
              "  .colab-df-quickchart-complete:disabled:hover {\n",
              "    background-color: var(--disabled-bg-color);\n",
              "    fill: var(--disabled-fill-color);\n",
              "    box-shadow: none;\n",
              "  }\n",
              "\n",
              "  .colab-df-spinner {\n",
              "    border: 2px solid var(--fill-color);\n",
              "    border-color: transparent;\n",
              "    border-bottom-color: var(--fill-color);\n",
              "    animation:\n",
              "      spin 1s steps(1) infinite;\n",
              "  }\n",
              "\n",
              "  @keyframes spin {\n",
              "    0% {\n",
              "      border-color: transparent;\n",
              "      border-bottom-color: var(--fill-color);\n",
              "      border-left-color: var(--fill-color);\n",
              "    }\n",
              "    20% {\n",
              "      border-color: transparent;\n",
              "      border-left-color: var(--fill-color);\n",
              "      border-top-color: var(--fill-color);\n",
              "    }\n",
              "    30% {\n",
              "      border-color: transparent;\n",
              "      border-left-color: var(--fill-color);\n",
              "      border-top-color: var(--fill-color);\n",
              "      border-right-color: var(--fill-color);\n",
              "    }\n",
              "    40% {\n",
              "      border-color: transparent;\n",
              "      border-right-color: var(--fill-color);\n",
              "      border-top-color: var(--fill-color);\n",
              "    }\n",
              "    60% {\n",
              "      border-color: transparent;\n",
              "      border-right-color: var(--fill-color);\n",
              "    }\n",
              "    80% {\n",
              "      border-color: transparent;\n",
              "      border-right-color: var(--fill-color);\n",
              "      border-bottom-color: var(--fill-color);\n",
              "    }\n",
              "    90% {\n",
              "      border-color: transparent;\n",
              "      border-bottom-color: var(--fill-color);\n",
              "    }\n",
              "  }\n",
              "</style>\n",
              "\n",
              "  <script>\n",
              "    async function quickchart(key) {\n",
              "      const quickchartButtonEl =\n",
              "        document.querySelector('#' + key + ' button');\n",
              "      quickchartButtonEl.disabled = true;  // To prevent multiple clicks.\n",
              "      quickchartButtonEl.classList.add('colab-df-spinner');\n",
              "      try {\n",
              "        const charts = await google.colab.kernel.invokeFunction(\n",
              "            'suggestCharts', [key], {});\n",
              "      } catch (error) {\n",
              "        console.error('Error during call to suggestCharts:', error);\n",
              "      }\n",
              "      quickchartButtonEl.classList.remove('colab-df-spinner');\n",
              "      quickchartButtonEl.classList.add('colab-df-quickchart-complete');\n",
              "    }\n",
              "    (() => {\n",
              "      let quickchartButtonEl =\n",
              "        document.querySelector('#df-4b0b671c-5315-4474-83d5-7425a10ea075 button');\n",
              "      quickchartButtonEl.style.display =\n",
              "        google.colab.kernel.accessAllowed ? 'block' : 'none';\n",
              "    })();\n",
              "  </script>\n",
              "</div>\n",
              "\n",
              "    </div>\n",
              "  </div>\n"
            ],
            "application/vnd.google.colaboratory.intrinsic+json": {
              "type": "dataframe",
              "variable_name": "df_corr",
              "summary": "{\n  \"name\": \"df_corr\",\n  \"rows\": 357,\n  \"fields\": [\n    {\n      \"column\": \"underlying cause\",\n      \"properties\": {\n        \"dtype\": \"category\",\n        \"num_unique_values\": 67,\n        \"samples\": [\n          \"Preterm infant\",\n          \"Congenital malformation syndrome\",\n          \"Chromosomal abnormality\"\n        ],\n        \"semantic_type\": \"\",\n        \"description\": \"\"\n      }\n    },\n    {\n      \"column\": \"Main maternal disease condition affecting the child/fetus\",\n      \"properties\": {\n        \"dtype\": \"category\",\n        \"num_unique_values\": 95,\n        \"samples\": [\n          \"Eclampsia /HELLP Syndrome \",\n          \"Severe preeclampsia\",\n          \"Pre-labour preterm rupture of membranes\"\n        ],\n        \"semantic_type\": \"\",\n        \"description\": \"\"\n      }\n    },\n    {\n      \"column\": \"case_type\",\n      \"properties\": {\n        \"dtype\": \"category\",\n        \"num_unique_values\": 3,\n        \"samples\": [\n          \"Stillbirth\",\n          \"Infant\",\n          \"Child\"\n        ],\n        \"semantic_type\": \"\",\n        \"description\": \"\"\n      }\n    }\n  ]\n}"
            }
          },
          "metadata": {},
          "execution_count": 227
        }
      ]
    },
    {
      "cell_type": "code",
      "source": [
        "from scipy.stats import chi2_contingency"
      ],
      "metadata": {
        "id": "YWzO2RlebQsn"
      },
      "execution_count": 228,
      "outputs": []
    },
    {
      "cell_type": "code",
      "source": [
        "# Convert 'underlying cause' to a categorical variable\n",
        "df_corr['underlying cause'] = pd.Categorical(df_corr['underlying cause'])\n",
        "\n",
        "# Convert 'Main maternal disease condition affecting the child/fetus' to a categorical variable\n",
        "df_corr['Main maternal disease condition affecting the child/fetus'] = pd.Categorical(df_corr['Main maternal disease condition affecting the child/fetus'])\n",
        "\n",
        "# Create a contingency table (example using 'underlying cause')\n",
        "contingency_table = pd.crosstab(df_corr['underlying cause'], df_corr['case_type'])\n",
        "\n",
        "# Calculate Cramer's V (using the contingency table created above)\n",
        "def cramers_v(confusion_matrix):\n",
        "    chi2 = chi2_contingency(confusion_matrix)[0]\n",
        "    n = confusion_matrix.sum().sum()\n",
        "    phi2 = chi2 / n\n",
        "    r, k = confusion_matrix.shape\n",
        "    phi2corr = max(0, phi2 - ((k-1)*(r-1))/(n-1))\n",
        "    rcorr = r - ((r-1)**2)/(n-1)\n",
        "    kcorr = k - ((k-1)**2)/(n-1)\n",
        "    return np.sqrt(phi2corr / min((kcorr-1), (rcorr-1)))\n",
        "\n",
        "cramers_v_statistic = cramers_v(contingency_table)\n",
        "\n",
        "print(\"Cramer's V statistic:\", cramers_v_statistic)"
      ],
      "metadata": {
        "colab": {
          "base_uri": "https://localhost:8080/"
        },
        "id": "ZUNnL5JqbmV3",
        "outputId": "30c0db89-87ed-4a02-aea5-46d5a25b63b5"
      },
      "execution_count": 229,
      "outputs": [
        {
          "output_type": "stream",
          "name": "stdout",
          "text": [
            "Cramer's V statistic: 0.603122609627669\n"
          ]
        },
        {
          "output_type": "stream",
          "name": "stderr",
          "text": [
            "<ipython-input-229-6df2bd78acb4>:2: SettingWithCopyWarning: \n",
            "A value is trying to be set on a copy of a slice from a DataFrame.\n",
            "Try using .loc[row_indexer,col_indexer] = value instead\n",
            "\n",
            "See the caveats in the documentation: https://pandas.pydata.org/pandas-docs/stable/user_guide/indexing.html#returning-a-view-versus-a-copy\n",
            "  df_corr['underlying cause'] = pd.Categorical(df_corr['underlying cause'])\n",
            "<ipython-input-229-6df2bd78acb4>:5: SettingWithCopyWarning: \n",
            "A value is trying to be set on a copy of a slice from a DataFrame.\n",
            "Try using .loc[row_indexer,col_indexer] = value instead\n",
            "\n",
            "See the caveats in the documentation: https://pandas.pydata.org/pandas-docs/stable/user_guide/indexing.html#returning-a-view-versus-a-copy\n",
            "  df_corr['Main maternal disease condition affecting the child/fetus'] = pd.Categorical(df_corr['Main maternal disease condition affecting the child/fetus'])\n"
          ]
        }
      ]
    },
    {
      "cell_type": "markdown",
      "source": [
        "#4.  Feature engineering: You are expected to select the top infant underlying causes and maternal factors(features) that would contribute to the top three causes of child death identified under 2(A) above. For this, you need to select the best and likely features. In doing so:"
      ],
      "metadata": {
        "id": "Kl5uryBUtqoA"
      }
    },
    {
      "cell_type": "markdown",
      "source": [
        "#A.  Select the classification models LogisticRegression, Support Vector Machine, AdaBoostClassifier, Random Forest Classifier , Gradient Boosting Classifier and XGBOOST and train each on the dataset\n",
        "\n",
        "\n"
      ],
      "metadata": {
        "id": "XzgVzzIit0o0"
      }
    },
    {
      "cell_type": "code",
      "source": [
        "from sklearn.model_selection import train_test_split\n",
        "from sklearn.linear_model import LogisticRegression\n",
        "from sklearn.preprocessing import OneHotEncoder\n",
        "from sklearn.compose import ColumnTransformer\n",
        "from sklearn.pipeline import Pipeline\n",
        "from sklearn.metrics import accuracy_score\n",
        "from sklearn.preprocessing import LabelEncoder"
      ],
      "metadata": {
        "id": "L4jrG0lhw6Cm"
      },
      "execution_count": 230,
      "outputs": []
    },
    {
      "cell_type": "code",
      "source": [
        "## LogisticRegression Model\n",
        "# Separate features and target variable\n",
        "X = df_corr[['underlying cause', 'Main maternal disease condition affecting the child/fetus']]\n",
        "y = df_corr['case_type']\n",
        "\n",
        "# Encode the target variable using LabelEncoder\n",
        "label_encoder = LabelEncoder()\n",
        "y = label_encoder.fit_transform(y)\n",
        "\n",
        "# Split the dataset into training and testing sets\n",
        "X_train, X_test, y_train, y_test = train_test_split(X, y, test_size=0.2, random_state=42)\n",
        "\n",
        "# Define the preprocessing steps for string features\n",
        "# Handle unknown categories in the OneHotEncoder\n",
        "preprocessor = ColumnTransformer(\n",
        "    transformers=[\n",
        "        ('onehot', OneHotEncoder(handle_unknown='ignore'), ['underlying cause', 'Main maternal disease condition affecting the child/fetus'])\n",
        "    ])\n",
        "\n",
        "# Create a pipeline with preprocessing and logistic regression model\n",
        "pipeline_lgr = Pipeline(steps=[('preprocessor', preprocessor),\n",
        "                           ('classifier', LogisticRegression())])\n",
        "\n",
        "# Train the logistic regression model\n",
        "pipeline_lgr.fit(X_train, y_train)\n",
        "\n",
        "# Make predictions on the test set\n",
        "y_pred = pipeline_lgr.predict(X_test)\n",
        "\n",
        "# Calculate the accuracy of the model\n",
        "accuracy = accuracy_score(y_test, y_pred)\n",
        "print('Accuracy:', accuracy)"
      ],
      "metadata": {
        "colab": {
          "base_uri": "https://localhost:8080/"
        },
        "id": "auWiwpRRtmrE",
        "outputId": "46d93be5-2f43-48f1-fbe5-a3d93fdee6d8"
      },
      "execution_count": 231,
      "outputs": [
        {
          "output_type": "stream",
          "name": "stdout",
          "text": [
            "Accuracy: 0.7777777777777778\n"
          ]
        }
      ]
    },
    {
      "cell_type": "markdown",
      "source": [
        "# Support Vector Machine"
      ],
      "metadata": {
        "id": "1Mvqv7_kbwPE"
      }
    },
    {
      "cell_type": "code",
      "source": [
        "from sklearn.svm import SVC"
      ],
      "metadata": {
        "id": "jsla5wrxbvOQ"
      },
      "execution_count": 232,
      "outputs": []
    },
    {
      "cell_type": "code",
      "source": [
        "## Support Vector Machine\n",
        "# Separate features and target variable\n",
        "X = df_corr[['underlying cause', 'Main maternal disease condition affecting the child/fetus']]\n",
        "y = df_corr['case_type']\n",
        "\n",
        "# Encode the target variable using LabelEncoder\n",
        "label_encoder = LabelEncoder()\n",
        "y = label_encoder.fit_transform(y)\n",
        "\n",
        "# Split the dataset into training and testing sets\n",
        "X_train, X_test, y_train, y_test = train_test_split(X, y, test_size=0.2, random_state=42)\n",
        "\n",
        "# Define the preprocessing steps for string features\n",
        "# Handle unknown categories in the OneHotEncoder\n",
        "preprocessor = ColumnTransformer(\n",
        "    transformers=[\n",
        "        ('onehot', OneHotEncoder(handle_unknown='ignore'), ['underlying cause', 'Main maternal disease condition affecting the child/fetus'])\n",
        "    ])\n",
        "\n",
        "# Create a pipeline with preprocessing and logistic regression model\n",
        "pipeline_svc = Pipeline(steps=[('preprocessor', preprocessor),\n",
        "                           ('classifier', SVC(kernel='linear'))]) # You can choose different kernels like 'rbf', 'poly', etc.\n",
        "\n",
        "# Train the Support Vector Machine model\n",
        "pipeline_svc.fit(X_train, y_train)\n",
        "\n",
        "# Make predictions on the test set\n",
        "y_pred = pipeline_svc.predict(X_test)\n",
        "\n",
        "# Calculate the accuracy of the model\n",
        "accuracy = accuracy_score(y_test, y_pred)\n",
        "print('Accuracy:', accuracy)"
      ],
      "metadata": {
        "colab": {
          "base_uri": "https://localhost:8080/"
        },
        "id": "5-X9XmDIcMrZ",
        "outputId": "15177489-d03c-4b80-d097-735c801a0415"
      },
      "execution_count": 233,
      "outputs": [
        {
          "output_type": "stream",
          "name": "stdout",
          "text": [
            "Accuracy: 0.7638888888888888\n"
          ]
        }
      ]
    },
    {
      "cell_type": "markdown",
      "source": [
        "# AdaBoostClassifier"
      ],
      "metadata": {
        "id": "cn0RHk4MdSVw"
      }
    },
    {
      "cell_type": "code",
      "source": [
        "from sklearn.ensemble import AdaBoostClassifier"
      ],
      "metadata": {
        "id": "V9_Sb6oXeAcB"
      },
      "execution_count": null,
      "outputs": []
    },
    {
      "cell_type": "code",
      "source": [
        "# Support Vector Machine\n",
        "# Separate features and target variable\n",
        "X = df_corr[['underlying cause', 'Main maternal disease condition affecting the child/fetus']]\n",
        "y = df_corr['case_type']\n",
        "\n",
        "# Encode the target variable using LabelEncoder\n",
        "label_encoder = LabelEncoder()\n",
        "y = label_encoder.fit_transform(y)\n",
        "\n",
        "# Split the dataset into training and testing sets\n",
        "X_train, X_test, y_train, y_test = train_test_split(X, y, test_size=0.2, random_state=42)\n",
        "\n",
        "# Define the preprocessing steps for string features\n",
        "# Handle unknown categories in the OneHotEncoder\n",
        "preprocessor = ColumnTransformer(\n",
        "    transformers=[\n",
        "        ('onehot', OneHotEncoder(handle_unknown='ignore'), ['underlying cause', 'Main maternal disease condition affecting the child/fetus'])\n",
        "    ])\n",
        "\n",
        "# Create a pipeline with preprocessing and logistic regression model\n",
        "pipeline_ada = Pipeline(steps=[('preprocessor', preprocessor),\n",
        "                           ('classifier', AdaBoostClassifier(n_estimators=50, learning_rate=1.0))])  # You can adjust the parameters as needed\n",
        "\n",
        "# Train the AdaBoostClassifier model\n",
        "pipeline_ada.fit(X_train, y_train)\n",
        "\n",
        "# Make predictions on the test set\n",
        "y_pred = pipeline_ada.predict(X_test)\n",
        "\n",
        "# Calculate the accuracy of the model\n",
        "accuracy = accuracy_score(y_test, y_pred)\n",
        "print('Accuracy:', accuracy)"
      ],
      "metadata": {
        "colab": {
          "base_uri": "https://localhost:8080/"
        },
        "id": "zCAzR3PrdSAB",
        "outputId": "6b70216d-4e73-4956-e7ea-18285acdb927"
      },
      "execution_count": 234,
      "outputs": [
        {
          "output_type": "stream",
          "name": "stdout",
          "text": [
            "Accuracy: 0.7916666666666666\n"
          ]
        }
      ]
    },
    {
      "cell_type": "markdown",
      "source": [
        "# Random Forest Classifier"
      ],
      "metadata": {
        "id": "CUdHtugRegQY"
      }
    },
    {
      "cell_type": "code",
      "source": [
        "from sklearn.ensemble import RandomForestClassifier"
      ],
      "metadata": {
        "id": "c_xCQVvIenvC"
      },
      "execution_count": 235,
      "outputs": []
    },
    {
      "cell_type": "code",
      "source": [
        "# Random Forest Classifier\n",
        "# Separate features and target variable\n",
        "X = df_corr[['underlying cause', 'Main maternal disease condition affecting the child/fetus']]\n",
        "y = df_corr['case_type']\n",
        "\n",
        "# Encode the target variable using LabelEncoder\n",
        "label_encoder = LabelEncoder()\n",
        "y = label_encoder.fit_transform(y)\n",
        "\n",
        "# Split the dataset into training and testing sets\n",
        "X_train, X_test, y_train, y_test = train_test_split(X, y, test_size=0.2, random_state=42)\n",
        "\n",
        "# Define the preprocessing steps for string features\n",
        "# Handle unknown categories in the OneHotEncoder\n",
        "preprocessor = ColumnTransformer(\n",
        "    transformers=[\n",
        "        ('onehot', OneHotEncoder(handle_unknown='ignore'), ['underlying cause', 'Main maternal disease condition affecting the child/fetus'])\n",
        "    ])\n",
        "\n",
        "# Create a pipeline with preprocessing and logistic regression model\n",
        "pipeline_RandomForestClassifier = Pipeline(steps=[('preprocessor', preprocessor),\n",
        "                           ('classifier',  RandomForestClassifier(n_estimators=100, random_state=42))])  # change the parametr\n",
        "\n",
        "# Train the Random Forest Classifier model\n",
        "pipeline_RandomForestClassifier.fit(X_train, y_train)\n",
        "\n",
        "# Make predictions on the test set\n",
        "y_pred = pipeline_RandomForestClassifier.predict(X_test)\n",
        "\n",
        "# Calculate the accuracy of the model\n",
        "accuracy = accuracy_score(y_test, y_pred)\n",
        "print('Accuracy:', accuracy)"
      ],
      "metadata": {
        "colab": {
          "base_uri": "https://localhost:8080/"
        },
        "id": "BNZGz8Wte6F3",
        "outputId": "efc042a3-cc4f-4031-a5d8-530edb1a10ac"
      },
      "execution_count": 236,
      "outputs": [
        {
          "output_type": "stream",
          "name": "stdout",
          "text": [
            "Accuracy: 0.7916666666666666\n"
          ]
        }
      ]
    },
    {
      "cell_type": "markdown",
      "source": [
        "# Gradient Boosting Classifier"
      ],
      "metadata": {
        "id": "6HON9InPgHra"
      }
    },
    {
      "cell_type": "code",
      "source": [
        "from sklearn.ensemble import GradientBoostingClassifier"
      ],
      "metadata": {
        "id": "pQT0DHorggWn"
      },
      "execution_count": 237,
      "outputs": []
    },
    {
      "cell_type": "code",
      "source": [
        "# Gradient Boosting Classifier\n",
        "# Separate features and target variable\n",
        "X = df_corr[['underlying cause', 'Main maternal disease condition affecting the child/fetus']]\n",
        "y = df_corr['case_type']\n",
        "\n",
        "# Encode the target variable using LabelEncoder\n",
        "label_encoder = LabelEncoder()\n",
        "y = label_encoder.fit_transform(y)\n",
        "\n",
        "# Split the dataset into training and testing sets\n",
        "X_train, X_test, y_train, y_test = train_test_split(X, y, test_size=0.2, random_state=42)\n",
        "\n",
        "# Define the preprocessing steps for string features\n",
        "# Handle unknown categories in the OneHotEncoder\n",
        "preprocessor = ColumnTransformer(\n",
        "    transformers=[\n",
        "        ('onehot', OneHotEncoder(handle_unknown='ignore'), ['underlying cause', 'Main maternal disease condition affecting the child/fetus'])\n",
        "    ])\n",
        "\n",
        "# Create a pipeline with preprocessing and logistic regression model\n",
        "pipeline_gb = Pipeline(steps=[('preprocessor', preprocessor),\n",
        "                           ('classifier',  GradientBoostingClassifier(n_estimators=10, learning_rate=0.1, random_state=42))])  # change the parametr\n",
        "\n",
        "# Train the Gradient Boosting Classifier model\n",
        "pipeline_gb.fit(X_train, y_train)\n",
        "\n",
        "# Make predictions on the test set\n",
        "y_pred = pipeline_gb.predict(X_test)\n",
        "\n",
        "# Calculate the accuracy of the model\n",
        "accuracy = accuracy_score(y_test, y_pred)\n",
        "print('Accuracy:', accuracy)"
      ],
      "metadata": {
        "colab": {
          "base_uri": "https://localhost:8080/"
        },
        "id": "7b1SmitIgEIH",
        "outputId": "9296bf0e-730b-4036-dc41-c644da1864b2"
      },
      "execution_count": 238,
      "outputs": [
        {
          "output_type": "stream",
          "name": "stdout",
          "text": [
            "Accuracy: 0.7916666666666666\n"
          ]
        }
      ]
    },
    {
      "cell_type": "markdown",
      "source": [
        "# XGBOOST Classifier"
      ],
      "metadata": {
        "id": "gNnvdLQ6hY4y"
      }
    },
    {
      "cell_type": "code",
      "source": [
        "import xgboost as xgb"
      ],
      "metadata": {
        "id": "WYggn6Jyhb2m"
      },
      "execution_count": 239,
      "outputs": []
    },
    {
      "cell_type": "code",
      "source": [
        "#XGBOOST Classifier\n",
        "# Separate features and target variable\n",
        "X = df_corr[['underlying cause', 'Main maternal disease condition affecting the child/fetus']]\n",
        "y = df_corr['case_type']\n",
        "\n",
        "# Encode the target variable using LabelEncoder\n",
        "label_encoder = LabelEncoder()\n",
        "y = label_encoder.fit_transform(y)\n",
        "\n",
        "# Split the dataset into training and testing sets\n",
        "X_train, X_test, y_train, y_test = train_test_split(X, y, test_size=0.2, random_state=42)\n",
        "\n",
        "# Define the preprocessing steps for string features\n",
        "# Handle unknown categories in the OneHotEncoder\n",
        "preprocessor = ColumnTransformer(\n",
        "    transformers=[\n",
        "        ('onehot', OneHotEncoder(handle_unknown='ignore'), ['underlying cause', 'Main maternal disease condition affecting the child/fetus'])\n",
        "    ])\n",
        "\n",
        "# Create a pipeline with preprocessing and logistic regression model\n",
        "pipeline_xgb = Pipeline(steps=[('preprocessor', preprocessor),\n",
        "                           ('classifier',  xgb.XGBClassifier(objective='binary:logistic', random_state=42))])  # change the parametr\n",
        "\n",
        "# Train the XGBOOST Classifier model\n",
        "pipeline_xgb.fit(X_train, y_train)\n",
        "\n",
        "# Make predictions on the test set\n",
        "y_pred = pipeline_xgb.predict(X_test)\n",
        "\n",
        "# Calculate the accuracy of the model\n",
        "accuracy = accuracy_score(y_test, y_pred)\n",
        "print('Accuracy:', accuracy)"
      ],
      "metadata": {
        "colab": {
          "base_uri": "https://localhost:8080/"
        },
        "id": "YOO8rX6ChVQX",
        "outputId": "fe1680c8-a2f5-4aa1-c5fe-5f4b842d2741"
      },
      "execution_count": 240,
      "outputs": [
        {
          "output_type": "stream",
          "name": "stdout",
          "text": [
            "Accuracy: 0.7777777777777778\n"
          ]
        }
      ]
    },
    {
      "cell_type": "markdown",
      "source": [
        "#B. Import the appropriate package for each of the classification models above"
      ],
      "metadata": {
        "id": "_oekxrwzir8u"
      }
    },
    {
      "cell_type": "markdown",
      "source": [
        "**Allready I  was imported all the packages and libraries**"
      ],
      "metadata": {
        "id": "iNm9KkV6jVE5"
      }
    },
    {
      "cell_type": "markdown",
      "source": [
        "**C. Rank the features based on their importance for each of the top underlying\n",
        "causes of child death identified above under 2(A), for each of the\n",
        "classification algorithms under (A )**"
      ],
      "metadata": {
        "id": "jXmJC3uPjt9N"
      }
    },
    {
      "cell_type": "code",
      "source": [
        "# Get feature importances for LogisticRegression\n",
        "\n",
        "# Get coefficients for LogisticRegression\n",
        "\n",
        "# Fit the pipeline\n",
        "pipeline_lgr.fit(X_train, y_train)\n",
        "\n",
        "# Get feature names after one-hot encoding\n",
        "feature_names = pipeline_lgr.named_steps['preprocessor'].named_transformers_['onehot'].get_feature_names_out(X.columns)\n",
        "\n",
        "# Get coefficients\n",
        "coefficients_lgr = pipeline_lgr.named_steps['classifier'].coef_[0]\n",
        "# Create a DataFrame to display coefficients\n",
        "df_corr_coefficients_lgr = pd.DataFrame({'Feature': feature_names, 'Coefficient': coefficients_lgr})\n",
        "df_corr_coefficients_lgr = df_corr_coefficients_lgr.sort_values(by='Coefficient', ascending=False)\n",
        "print(\"Logistic Regression Classifier coefficients:\")\n",
        "print(df_corr_coefficients_lgr)"
      ],
      "metadata": {
        "colab": {
          "base_uri": "https://localhost:8080/"
        },
        "id": "ToaMW10dpESz",
        "outputId": "cb0ba659-87d2-4962-a10c-be29fdf3c792"
      },
      "execution_count": 241,
      "outputs": [
        {
          "output_type": "stream",
          "name": "stdout",
          "text": [
            "Logistic Regression Classifier coefficients:\n",
            "                                               Feature  Coefficient\n",
            "44                          underlying cause_Pneumonia     0.979727\n",
            "48                     underlying cause_Preterm infant     0.967282\n",
            "93   Main maternal disease condition affecting the ...     0.712761\n",
            "99   Main maternal disease condition affecting the ...     0.700206\n",
            "36       underlying cause_Meconium aspiration syndrome     0.686089\n",
            "..                                                 ...          ...\n",
            "52   underlying cause_Thoracic spina bifida with hy...    -0.409496\n",
            "25    underlying cause_Intrauterine growth restriction    -0.440669\n",
            "16                 underlying cause_Craniorachischisis    -0.585357\n",
            "126  Main maternal disease condition affecting the ...    -0.850171\n",
            "28               underlying cause_Intrauterine hypoxia    -1.335671\n",
            "\n",
            "[142 rows x 2 columns]\n"
          ]
        }
      ]
    },
    {
      "cell_type": "markdown",
      "source": [
        "#  Get feature importances for Support Vector Machine"
      ],
      "metadata": {
        "id": "NPVJ9YosrjSE"
      }
    },
    {
      "cell_type": "code",
      "source": [
        "# Get feature importances for Support Vector Machine\n",
        "# Fit the pipeline\n",
        "#pipeline_lgr.fit(X_train, y_train)\n",
        "# Get feature names after one-hot encoding\n",
        "feature_names = pipeline_svc.named_steps['preprocessor'].named_transformers_['onehot'].get_feature_names_out(X.columns)\n",
        "\n",
        "# Get coefficients\n",
        "coefficients_svc = pipeline_svc.named_steps['classifier'].coef_[0]\n",
        "\n",
        "# Convert coefficients to a dense array to be compatible with sorting\n",
        "coefficients_svc = coefficients_svc.toarray().flatten() # Flatten to a 1D array\n",
        "\n",
        "# Create a DataFrame to display coefficients\n",
        "df_corr_coefficients_svc = pd.DataFrame({'Feature': feature_names, 'Coefficient': coefficients_svc})\n",
        "df_corr_coefficients_svc = df_corr_coefficients_svc.sort_values(by='Coefficient', ascending=False)\n",
        "print(\"Support Vector Machine Classifier coefficients:\")\n",
        "print(df_corr_coefficients_svc)"
      ],
      "metadata": {
        "colab": {
          "base_uri": "https://localhost:8080/"
        },
        "id": "xo62-m7drikj",
        "outputId": "52f2aa8c-27ac-426b-a221-51931d8a6632"
      },
      "execution_count": 242,
      "outputs": [
        {
          "output_type": "stream",
          "name": "stdout",
          "text": [
            "Support Vector Machine Classifier coefficients:\n",
            "                                               Feature  Coefficient\n",
            "54                       underlying cause_Undetermined     1.244246\n",
            "68   Main maternal disease condition affecting the ...     1.000000\n",
            "132  Main maternal disease condition affecting the ...     1.000000\n",
            "37                  underlying cause_Neonatal jaundice     1.000000\n",
            "35                underlying cause_Meconium aspiration     1.000000\n",
            "..                                                 ...          ...\n",
            "123  Main maternal disease condition affecting the ...    -1.000000\n",
            "117  Main maternal disease condition affecting the ...    -1.000000\n",
            "126  Main maternal disease condition affecting the ...    -1.075306\n",
            "18           underlying cause_Hyaline membrane disease    -1.090058\n",
            "28               underlying cause_Intrauterine hypoxia    -1.112531\n",
            "\n",
            "[142 rows x 2 columns]\n"
          ]
        }
      ]
    },
    {
      "cell_type": "markdown",
      "source": [
        "#  Get feature importances for AdaBoostClassifier"
      ],
      "metadata": {
        "id": "nLhaYAP-vLMh"
      }
    },
    {
      "cell_type": "code",
      "source": [
        "# Get feature importances for AdaBoostClassifier\n",
        "\n",
        "# Now you can get the feature importances\n",
        "pipeline_ada.fit(X_train, y_train)\n",
        "\n",
        "# Get feature names after one-hot encoding\n",
        "feature_names = pipeline_ada.named_steps['preprocessor'].named_transformers_['onehot'].get_feature_names_out(X.columns)\n",
        "\n",
        "# Get feature importances\n",
        "feature_importances_ada = pipeline_ada.steps[-1][1].feature_importances_\n",
        "\n",
        "# Create a DataFrame to display feature importances\n",
        "df_corr_importances_ada = pd.DataFrame({'Feature': feature_names, 'Importance': feature_importances_ada})\n",
        "df_corr_importances_ada = df_corr_importances_ada.sort_values(by='Importance', ascending=False)\n",
        "print(\"AdaBoost Classifier feature importances:\")\n",
        "print(df_corr_importances_ada)"
      ],
      "metadata": {
        "colab": {
          "base_uri": "https://localhost:8080/"
        },
        "id": "oeUIIUQctP8S",
        "outputId": "2448c1c5-f4f3-497d-fe4e-c658a31e1d6e"
      },
      "execution_count": 243,
      "outputs": [
        {
          "output_type": "stream",
          "name": "stdout",
          "text": [
            "AdaBoost Classifier feature importances:\n",
            "                                               Feature  Importance\n",
            "28               underlying cause_Intrauterine hypoxia        0.20\n",
            "141  Main maternal disease condition affecting the ...        0.10\n",
            "36       underlying cause_Meconium aspiration syndrome        0.04\n",
            "5                      underlying cause_Birth asphyxia        0.04\n",
            "54                       underlying cause_Undetermined        0.04\n",
            "..                                                 ...         ...\n",
            "61   Main maternal disease condition affecting the ...        0.00\n",
            "60   Main maternal disease condition affecting the ...        0.00\n",
            "59   Main maternal disease condition affecting the ...        0.00\n",
            "58   Main maternal disease condition affecting the ...        0.00\n",
            "71   Main maternal disease condition affecting the ...        0.00\n",
            "\n",
            "[142 rows x 2 columns]\n"
          ]
        }
      ]
    },
    {
      "cell_type": "markdown",
      "source": [],
      "metadata": {
        "id": "tJ4PzzsyvwKx"
      }
    },
    {
      "cell_type": "markdown",
      "source": [
        "## Get feature importances for Random Forest"
      ],
      "metadata": {
        "id": "WJTC11WJv1uA"
      }
    },
    {
      "cell_type": "code",
      "source": [
        "# Get feature importances for Random Forest\n",
        "# Now you can get the feature importances\n",
        "pipeline_RandomForestClassifier.fit(X_train, y_train)\n",
        "\n",
        "# Get feature names after one-hot encoding\n",
        "feature_names = pipeline_RandomForestClassifier.named_steps['preprocessor'].named_transformers_['onehot'].get_feature_names_out(X.columns)\n",
        "\n",
        "# Get feature importances\n",
        "feature_importances_rf = pipeline_RandomForestClassifier.steps[-1][1].feature_importances_\n",
        "\n",
        "# Create a DataFrame to display feature importances\n",
        "df_corr_importances_rf = pd.DataFrame({'Feature': feature_names, 'Importance': feature_importances_rf})\n",
        "df_corr_importances_rf = df_corr_importances_rf.sort_values(by='Importance', ascending=False)\n",
        "print(\"Random Forest Classifier feature importances:\")\n",
        "print(df_corr_importances_rf)"
      ],
      "metadata": {
        "colab": {
          "base_uri": "https://localhost:8080/"
        },
        "id": "28jsAEprocI8",
        "outputId": "8f238805-cf2b-4c87-d44b-661613cb8f47"
      },
      "execution_count": 244,
      "outputs": [
        {
          "output_type": "stream",
          "name": "stdout",
          "text": [
            "Random Forest Classifier feature importances:\n",
            "                                               Feature  Importance\n",
            "5                      underlying cause_Birth asphyxia    0.150006\n",
            "49      underlying cause_Respiratory distress syndrome    0.068928\n",
            "28               underlying cause_Intrauterine hypoxia    0.065480\n",
            "36       underlying cause_Meconium aspiration syndrome    0.035549\n",
            "32                   underlying cause_Low birth weight    0.026467\n",
            "..                                                 ...         ...\n",
            "83   Main maternal disease condition affecting the ...    0.000072\n",
            "124  Main maternal disease condition affecting the ...    0.000070\n",
            "78   Main maternal disease condition affecting the ...    0.000068\n",
            "102  Main maternal disease condition affecting the ...    0.000058\n",
            "80   Main maternal disease condition affecting the ...    0.000049\n",
            "\n",
            "[142 rows x 2 columns]\n"
          ]
        }
      ]
    },
    {
      "cell_type": "markdown",
      "source": [],
      "metadata": {
        "id": "6-apeY4dv7dY"
      }
    },
    {
      "cell_type": "markdown",
      "source": [
        "# Get feature importances for Gradient Boosting Classifier"
      ],
      "metadata": {
        "id": "pe29ykyAv-wo"
      }
    },
    {
      "cell_type": "code",
      "source": [
        "# Get feature importances for Gradient Boosting Classifier\n",
        "# Now you can get the feature importances\n",
        "pipeline_gb.fit(X_train, y_train)\n",
        "\n",
        "# Get feature names after one-hot encoding\n",
        "feature_names = pipeline_gb.named_steps['preprocessor'].named_transformers_['onehot'].get_feature_names_out(X.columns)\n",
        "\n",
        "# Get feature importances\n",
        "feature_importances_gb = pipeline_gb.steps[-1][1].feature_importances_\n",
        "\n",
        "# Create a DataFrame to display feature importances\n",
        "df_corr_importances_gb = pd.DataFrame({'Feature': feature_names, 'Importance': feature_importances_gb})\n",
        "df_corr_importances_gb = df_corr_importances_gb.sort_values(by='Importance', ascending=False)\n",
        "print(\"Gradient Boosting Classifier feature importances:\")\n",
        "print(df_corr_importances_gb)"
      ],
      "metadata": {
        "colab": {
          "base_uri": "https://localhost:8080/"
        },
        "id": "fpmpa_HTwDeR",
        "outputId": "49c0776f-11c8-43b9-beb3-88d36f1fd5eb"
      },
      "execution_count": 256,
      "outputs": [
        {
          "output_type": "stream",
          "name": "stdout",
          "text": [
            "Gradient Boosting Classifier feature importances:\n",
            "                                              Feature  Importance\n",
            "5                     underlying cause_Birth asphyxia    0.330582\n",
            "49     underlying cause_Respiratory distress syndrome    0.191129\n",
            "28              underlying cause_Intrauterine hypoxia    0.097705\n",
            "48                    underlying cause_Preterm infant    0.067454\n",
            "18          underlying cause_Hyaline membrane disease    0.044048\n",
            "..                                                ...         ...\n",
            "43  underlying cause_Neural tube defect -Lumbar sp...    0.000000\n",
            "42  underlying cause_Neural tube defect -Craniorac...    0.000000\n",
            "41  underlying cause_Neural tube defect - iniencep...    0.000000\n",
            "40  underlying cause_Neural tube defect - Craniora...    0.000000\n",
            "71  Main maternal disease condition affecting the ...    0.000000\n",
            "\n",
            "[142 rows x 2 columns]\n"
          ]
        }
      ]
    },
    {
      "cell_type": "markdown",
      "source": [
        "# *Get feature importances for XGBOOST Classifier*"
      ],
      "metadata": {
        "id": "fyGBclyJyfjL"
      }
    },
    {
      "cell_type": "code",
      "source": [
        "# Get feature importances for XGBOOST Classifier\n",
        "# Now you can get the feature importances\n",
        "pipeline_xgb.fit(X_train, y_train)\n",
        "\n",
        "# Get feature names after one-hot encoding\n",
        "feature_names = pipeline_xgb.named_steps['preprocessor'].named_transformers_['onehot'].get_feature_names_out(X.columns)\n",
        "\n",
        "# Get feature importances\n",
        "feature_importances_xgb = pipeline_xgb.steps[-1][1].feature_importances_\n",
        "\n",
        "# Create a DataFrame to display feature importances\n",
        "df_corr_importances_xgb = pd.DataFrame({'Feature': feature_names, 'Importance': feature_importances_xgb})\n",
        "df_corr_importances_xgb = df_corr_importances_xgb.sort_values(by='Importance', ascending=False)\n",
        "print(\"XGBOOST Classifier feature importances:\")\n",
        "print(df_corr_importances_xgb)"
      ],
      "metadata": {
        "colab": {
          "base_uri": "https://localhost:8080/"
        },
        "id": "uPO5vtOgydb_",
        "outputId": "6cdbd285-bc2b-4b5a-c68c-9c0f0a4482f2"
      },
      "execution_count": 257,
      "outputs": [
        {
          "output_type": "stream",
          "name": "stdout",
          "text": [
            "XGBOOST Classifier feature importances:\n",
            "                                              Feature  Importance\n",
            "48                    underlying cause_Preterm infant    0.167434\n",
            "47                      underlying cause_Preterm baby    0.146854\n",
            "18          underlying cause_Hyaline membrane disease    0.118869\n",
            "5                     underlying cause_Birth asphyxia    0.074385\n",
            "49     underlying cause_Respiratory distress syndrome    0.060498\n",
            "..                                                ...         ...\n",
            "50   underlying cause_Retardation intrauterine growth    0.000000\n",
            "46                           underlying cause_Preterm    0.000000\n",
            "45         underlying cause_Polycystic kidney disease    0.000000\n",
            "44                         underlying cause_Pneumonia    0.000000\n",
            "71  Main maternal disease condition affecting the ...    0.000000\n",
            "\n",
            "[142 rows x 2 columns]\n"
          ]
        }
      ]
    },
    {
      "cell_type": "markdown",
      "source": [
        "# 5. Model evaluation using the proper metrics"
      ],
      "metadata": {
        "id": "A2UqNWyX0Y7O"
      }
    },
    {
      "cell_type": "markdown",
      "source": [
        "#A. Import the appropriate evaluation metric packages"
      ],
      "metadata": {
        "id": "8FXiK0kQ0dEW"
      }
    },
    {
      "cell_type": "code",
      "source": [
        "from sklearn.metrics import accuracy_score, precision_score, recall_score, f1_score\n",
        "from sklearn.metrics import confusion_matrix, classification_report, roc_auc_score\n"
      ],
      "metadata": {
        "id": "uP-Lw41o0Yc_"
      },
      "execution_count": 258,
      "outputs": []
    },
    {
      "cell_type": "markdown",
      "source": [
        "# B. Using the appropriate n-fold cross validation and out of sample data, select the best preforming model from the candidate models under 4(A)"
      ],
      "metadata": {
        "id": "xHoX_pNq08YW"
      }
    },
    {
      "cell_type": "code",
      "source": [
        "from sklearn.model_selection import cross_val_score\n",
        "from sklearn.ensemble import RandomForestClassifier, GradientBoostingClassifier\n",
        "from xgboost import XGBClassifier\n",
        "from sklearn.model_selection import train_test_split\n",
        "from sklearn.metrics import accuracy_score\n",
        "from sklearn.preprocessing import LabelEncoder # Import LabelEncoder for handling categorical features\n",
        "\n",
        "# Define the candidate models\n",
        "models = {\n",
        "    'Logistic Regression': LogisticRegression(),\n",
        "    'Support Vector Machine': SVC(kernel='linear'),\n",
        "    'AdaBoost': AdaBoostClassifier(n_estimators=50, learning_rate=1.0),\n",
        "    'Random Forest': RandomForestClassifier(n_estimators=100, random_state=42),\n",
        "    'Gradient Boosting': GradientBoostingClassifier(n_estimators=100, learning_rate=0.1, random_state=42),\n",
        "    'XGBoost': xgb.XGBClassifier(objective='binary:logistic', random_state=42)\n",
        "}\n",
        "\n",
        "# Assuming 'X' is our original feature DataFrame\n",
        "X_encoded = X.copy()  # Create a copy to avoid modifying the original\n",
        "\n",
        "# Explicitly include 'underlying cause' for Label Encoding\n",
        "# Ensure all your categorical columns are included here\n",
        "categorical_cols = ['underlying cause', 'Main maternal disease condition affecting the child/fetus']  # Add other categorical columns if any\n",
        "\n",
        "# Apply Label Encoding to categorical features\n",
        "label_encoders = {}\n",
        "for col in categorical_cols:\n",
        "    le = LabelEncoder()\n",
        "    # Convert all values to strings before fitting the LabelEncoder\n",
        "    all_data = pd.concat([X_encoded[col].astype(str), X_test[col].astype(str)])\n",
        "    le.fit(all_data)\n",
        "    X_encoded.loc[:, col] = le.transform(X_encoded[col].astype(str))\n",
        "    X_test.loc[:, col] = le.transform(X_test[col].astype(str))\n",
        "    label_encoders[col] = le  # Store the encoders for later use if needed\n",
        "\n",
        "# Perform n-fold cross-validation\n",
        "X_train, X_test, y_train, y_test = train_test_split(X_encoded, y, test_size=0.2, random_state=42) # Use the encoded features\n",
        "best_model = None\n",
        "best_accuracy = 0\n",
        "\n",
        "for name, model in models.items():\n",
        "    # Debug by setting error_score='raise' to get more informative error messages\n",
        "    cv_scores = cross_val_score(model, X_train, y_train, cv=5, scoring='accuracy', error_score='raise')\n",
        "    mean_accuracy = cv_scores.mean()\n",
        "    print(f'{name} - Mean Accuracy: {mean_accuracy}')\n",
        "\n",
        "    if mean_accuracy > best_accuracy:\n",
        "        best_model = model\n",
        "        best_accuracy = mean_accuracy\n",
        "\n",
        "# Evaluate the best performing model on out-of-sample data\n",
        "best_model.fit(X_train, y_train)\n",
        "\n",
        "# The test data has already been transformed above, so no need to transform again\n",
        "# for col in categorical_cols:\n",
        "#     X_test.loc[:, col] = label_encoders[col].transform(X_test[col])\n",
        "\n",
        "y_pred = best_model.predict(X_test)\n",
        "test_accuracy = accuracy_score(y_test, y_pred)\n",
        "print(f'Best Model: {best_model.__class__.__name__} - Test Accuracy: {test_accuracy}')"
      ],
      "metadata": {
        "colab": {
          "base_uri": "https://localhost:8080/"
        },
        "id": "JRcu0IyvikBJ",
        "outputId": "6a784381-d697-431f-d8bf-41712f2ea383"
      },
      "execution_count": 269,
      "outputs": [
        {
          "output_type": "stream",
          "name": "stdout",
          "text": [
            "Logistic Regression - Mean Accuracy: 0.656140350877193\n",
            "Support Vector Machine - Mean Accuracy: 0.6596491228070175\n",
            "AdaBoost - Mean Accuracy: 0.7087719298245614\n",
            "Random Forest - Mean Accuracy: 0.7719298245614036\n",
            "Gradient Boosting - Mean Accuracy: 0.7859649122807018\n",
            "XGBoost - Mean Accuracy: 0.7719298245614035\n",
            "Best Model: GradientBoostingClassifier - Test Accuracy: 0.6944444444444444\n"
          ]
        }
      ]
    },
    {
      "cell_type": "markdown",
      "source": [
        "# C. Ensemble the models and see the performance of the combination models on the data"
      ],
      "metadata": {
        "id": "4bjGg3IO4zLF"
      }
    },
    {
      "cell_type": "code",
      "source": [
        "from sklearn.ensemble import VotingClassifier\n",
        "from sklearn.model_selection import cross_val_score\n",
        "from sklearn.model_selection import train_test_split\n",
        "from sklearn.metrics import accuracy_score\n",
        "from sklearn.ensemble import RandomForestClassifier, GradientBoostingClassifier\n",
        "from xgboost import XGBClassifier\n",
        "from sklearn.preprocessing import LabelEncoder # Import LabelEncoder for handling categorical features\n",
        "\n",
        "# Define the individual models\n",
        "pipeline_lgr = LogisticRegression()\n",
        "pipeline_svc = SVC(kernel='linear')\n",
        "pipeline_ada = AdaBoostClassifier(n_estimators=50, learning_rate=1.0)\n",
        "pipeline_rf = RandomForestClassifier(n_estimators=100, random_state=42)\n",
        "pipeline_gb = GradientBoostingClassifier(n_estimators=100, learning_rate=0.1, random_state=42)\n",
        "pipeline_xgb = xgb.XGBClassifier(objective='binary:logistic', random_state=42)\n",
        "\n",
        "# Create a Voting Classifier ensemble\n",
        "ensemble_model = VotingClassifier(estimators=[\n",
        "('Logistic Regression', pipeline_lgr),\n",
        "('Support Vector Machine', pipeline_svc),\n",
        "('AdaBoost', pipeline_ada),\n",
        "('Random Forest', pipeline_rf),\n",
        "('Gradient Boosting', pipeline_gb),\n",
        "('XGBoost', pipeline_xgb)\n",
        "], voting='hard')\n",
        "\n",
        "# Split the data into training and test sets\n",
        "# Assuming 'X' is your original feature DataFrame and 'y' is your target variable\n",
        "X_encoded = X.copy()  # Create a copy to avoid modifying the original\n",
        "\n",
        "# Explicitly list all your categorical columns\n",
        "categorical_cols = ['underlying cause', 'Main maternal disease condition affecting the child/fetus']\n",
        "\n",
        "# Apply Label Encoding to categorical features\n",
        "label_encoders = {}\n",
        "for col in categorical_cols:\n",
        "    le = LabelEncoder()\n",
        "    # Fit on all unique values from both training and test data to avoid unseen labels during prediction\n",
        "    all_data = pd.concat([X_encoded[col].astype(str), X_test[col].astype(str)])\n",
        "    le.fit(all_data)\n",
        "    X_encoded[col] = le.transform(X_encoded[col].astype(str))\n",
        "    X_test[col] = le.transform(X_test[col].astype(str))\n",
        "    label_encoders[col] = le  # Store the encoders for later use if needed\n",
        "\n",
        "# Now use the encoded features for splitting\n",
        "X_train, X_test, y_train, y_test = train_test_split(X_encoded, y, test_size=0.2, random_state=42)\n",
        "\n",
        "# Evaluate the ensemble model using cross-validation\n",
        "# Set error_score='raise' to get more informative error messages if any\n",
        "cv_scores = cross_val_score(ensemble_model, X_train, y_train, cv=5, scoring='accuracy', error_score='raise')\n",
        "mean_accuracy = cv_scores.mean()\n",
        "print(f'Ensemble Model - Mean Accuracy: {mean_accuracy}')\n",
        "\n",
        "# Fit the ensemble model on the training data and evaluate on the test data\n",
        "ensemble_model.fit(X_train, y_train)\n",
        "y_pred = ensemble_model.predict(X_test)\n",
        "test_accuracy = accuracy_score(y_test, y_pred)\n",
        "print(f'Ensemble Model - Test Accuracy: {test_accuracy}')"
      ],
      "metadata": {
        "colab": {
          "base_uri": "https://localhost:8080/"
        },
        "id": "VeMWGgnSlKWo",
        "outputId": "b2dc4652-b4c7-4ff6-8e61-076dad950ce3"
      },
      "execution_count": 279,
      "outputs": [
        {
          "output_type": "stream",
          "name": "stdout",
          "text": [
            "Ensemble Model - Mean Accuracy: 0.7859649122807019\n",
            "Ensemble Model - Test Accuracy: 0.7083333333333334\n"
          ]
        }
      ]
    },
    {
      "cell_type": "markdown",
      "source": [
        "# D. Use Accuracy score metrics to evaluate the performance of the models above"
      ],
      "metadata": {
        "id": "7aBlePA8_Afh"
      }
    },
    {
      "cell_type": "code",
      "source": [
        "from sklearn.metrics import accuracy_score\n",
        "\n",
        "# Calculate accuracy scores for individual models\n",
        "for name, model in models.items():\n",
        "    model.fit(X_train, y_train)\n",
        "    y_pred = model.predict(X_test)\n",
        "    accuracy = accuracy_score(y_test, y_pred)\n",
        "    print(f'{name} - Test Accuracy: {accuracy}')\n",
        "\n",
        "# Calculate accuracy score for the ensemble model\n",
        "ensemble_model.fit(X_train, y_train)\n",
        "ensemble_pred = ensemble_model.predict(X_test)\n",
        "ensemble_accuracy = accuracy_score(y_test, ensemble_pred)\n",
        "print(f'Ensemble Model - Test Accuracy: {ensemble_accuracy}')"
      ],
      "metadata": {
        "id": "Tuw33cLk-3Pz",
        "colab": {
          "base_uri": "https://localhost:8080/"
        },
        "outputId": "3b8f6efd-1399-4772-8106-4a3de1169fd7"
      },
      "execution_count": 280,
      "outputs": [
        {
          "output_type": "stream",
          "name": "stdout",
          "text": [
            "Logistic Regression - Test Accuracy: 0.7083333333333334\n",
            "Support Vector Machine - Test Accuracy: 0.7083333333333334\n",
            "AdaBoost - Test Accuracy: 0.7777777777777778\n",
            "Random Forest - Test Accuracy: 0.6944444444444444\n",
            "Gradient Boosting - Test Accuracy: 0.6944444444444444\n",
            "XGBoost - Test Accuracy: 0.6944444444444444\n",
            "Ensemble Model - Test Accuracy: 0.7083333333333334\n"
          ]
        }
      ]
    },
    {
      "cell_type": "markdown",
      "source": [
        "# E. Plot the AUC and ROC curve on the same graph to visualize and compare the performance of each of the models above"
      ],
      "metadata": {
        "id": "CImLnppK_N3i"
      }
    },
    {
      "cell_type": "code",
      "source": [
        "!pip install scikit-learn"
      ],
      "metadata": {
        "id": "YVp6vNoVA4dR",
        "colab": {
          "base_uri": "https://localhost:8080/"
        },
        "outputId": "78c56e99-2bca-4a4d-bcab-173e62867ed8"
      },
      "execution_count": 271,
      "outputs": [
        {
          "output_type": "stream",
          "name": "stdout",
          "text": [
            "Requirement already satisfied: scikit-learn in /usr/local/lib/python3.10/dist-packages (1.2.2)\n",
            "Requirement already satisfied: numpy>=1.17.3 in /usr/local/lib/python3.10/dist-packages (from scikit-learn) (1.25.2)\n",
            "Requirement already satisfied: scipy>=1.3.2 in /usr/local/lib/python3.10/dist-packages (from scikit-learn) (1.11.4)\n",
            "Requirement already satisfied: joblib>=1.1.1 in /usr/local/lib/python3.10/dist-packages (from scikit-learn) (1.4.2)\n",
            "Requirement already satisfied: threadpoolctl>=2.0.0 in /usr/local/lib/python3.10/dist-packages (from scikit-learn) (3.5.0)\n"
          ]
        }
      ]
    },
    {
      "cell_type": "code",
      "source": [
        "from sklearn.preprocessing import label_binarize # Import label_binarize from sklearn.preprocessing\n",
        "import matplotlib.pyplot as plt\n",
        "\n",
        "# Binarize the target variable for multiclass ROC analysis\n",
        "y_test_binarized = label_binarize(y_test, classes=np.unique(y_test))\n",
        "\n",
        "# Calculate ROC curves and AUC scores for individual models\n",
        "plt.figure(figsize=(8, 6))\n",
        "\n",
        "for name, model in models.items():\n",
        "    # Enable probability estimation for models that support it\n",
        "    if hasattr(model, 'probability'):\n",
        "        model.probability = True\n",
        "\n",
        "    model.fit(X_train, y_train)\n",
        "\n",
        "    # Handle multiclass by iterating over classes\n",
        "    for class_idx in range(y_test_binarized.shape[1]):\n",
        "        y_pred_prob = model.predict_proba(X_test)[:, class_idx]\n",
        "        fpr, tpr, _ = roc_curve(y_test_binarized[:, class_idx], y_pred_prob)\n",
        "        auc_score = roc_auc_score(y_test_binarized[:, class_idx], y_pred_prob)\n",
        "        plt.plot(fpr, tpr, label=f'{name} (Class {class_idx}, AUC = {auc_score:.2f})')\n",
        "\n",
        "# Calculate ROC curve and AUC score for the ensemble model\n",
        "# ... (similar handling for ensemble_model as above)\n",
        "\n",
        "plt.plot([0, 1], [0, 1], 'k--')  # Diagonal reference line\n",
        "plt.xlabel('False Positive Rate')\n",
        "plt.ylabel('True Positive Rate')\n",
        "plt.title('ROC Curve - AUC Comparison')\n",
        "plt.legend()\n",
        "plt.show()"
      ],
      "metadata": {
        "id": "YJsoNXBRA87o",
        "colab": {
          "base_uri": "https://localhost:8080/",
          "height": 564
        },
        "outputId": "e26293b8-dc39-4ee4-e337-f20522f3c6cd"
      },
      "execution_count": 281,
      "outputs": [
        {
          "output_type": "display_data",
          "data": {
            "text/plain": [
              "<Figure size 800x600 with 1 Axes>"
            ],
            "image/png": "[encoded data removed]"
          },
          "metadata": {}
        }
      ]
    },
    {
      "cell_type": "markdown",
      "source": [
        "#6. Result Visualization: Import the appropriate visualization package and:"
      ],
      "metadata": {
        "id": "yVMsiX8UCGmB"
      }
    },
    {
      "cell_type": "markdown",
      "source": [
        "#A. Plot the feature importance in descending order for each of the models using horizontal bar chart"
      ],
      "metadata": {
        "id": "BGxj6nGkCLWZ"
      }
    },
    {
      "cell_type": "code",
      "source": [
        "import matplotlib.pyplot as plt\n",
        "\n",
        "# Plot feature importances for individual models\n",
        "plt.figure(figsize=(12, 8))\n",
        "\n",
        "for name, model in models.items():\n",
        "    model.fit(X_train, y_train)\n",
        "\n",
        "    # Check if the model has feature importances\n",
        "    if hasattr(model, 'feature_importances_'):\n",
        "        feature_importances = model.feature_importances_\n",
        "        sorted_indices = feature_importances.argsort()[::-1]\n",
        "        features_sorted = X.columns[sorted_indices]\n",
        "        importance_sorted = feature_importances[sorted_indices]\n",
        "\n",
        "        plt.barh(range(len(features_sorted)), importance_sorted, align='center')\n",
        "        plt.yticks(range(len(features_sorted)), features_sorted)\n",
        "        plt.xlabel('Feature Importance')\n",
        "        plt.ylabel('Feature')\n",
        "        plt.title(f'{name} - Feature Importances')\n",
        "        plt.show()\n",
        "    else:\n",
        "        print(f\"Model {name} does not have feature importances.\")"
      ],
      "metadata": {
        "id": "7yv1IzceCw46",
        "colab": {
          "base_uri": "https://localhost:8080/",
          "height": 1000
        },
        "outputId": "04231554-0788-4e96-97de-66dec65b29c9"
      },
      "execution_count": 282,
      "outputs": [
        {
          "output_type": "stream",
          "name": "stdout",
          "text": [
            "Model Logistic Regression does not have feature importances.\n",
            "Model Support Vector Machine does not have feature importances.\n"
          ]
        },
        {
          "output_type": "display_data",
          "data": {
            "text/plain": [
              "<Figure size 1200x800 with 1 Axes>"
            ],
            "image/png": "[encoded data removed]"
          },
          "metadata": {}
        },
        {
          "output_type": "display_data",
          "data": {
            "text/plain": [
              "<Figure size 640x480 with 1 Axes>"
            ],
            "image/png": "[encoded data removed]"
          },
          "metadata": {}
        },
        {
          "output_type": "display_data",
          "data": {
            "text/plain": [
              "<Figure size 640x480 with 1 Axes>"
            ],
            "image/png": "[encoded data removed]"
          },
          "metadata": {}
        },
        {
          "output_type": "display_data",
          "data": {
            "text/plain": [
              "<Figure size 640x480 with 1 Axes>"
            ],
            "image/png": "[encoded data removed]"
          },
          "metadata": {}
        }
      ]
    },
    {
      "cell_type": "markdown",
      "source": [],
      "metadata": {
        "id": "kpNU1NREDFhc"
      }
    },
    {
      "cell_type": "markdown",
      "source": [
        "# B. Plot the top five infant underlying causes of the child death"
      ],
      "metadata": {
        "id": "lFynghv_DviQ"
      }
    },
    {
      "cell_type": "code",
      "source": [
        "import matplotlib.pyplot as plt\n",
        "underlying_cause = df_renamed['underlying cause']\n",
        "\n",
        "# Sort the values in descending order and select the top data points\n",
        "top_values = underlying_cause.sort_values(ascending=False).head(5)\n",
        "\n",
        "# Plot the top data points in a bar plot\n",
        "plt.figure(figsize=(15, 6))\n",
        "plt.barh(range(len(top_values)), top_values, align='center', color='blue')\n",
        "plt.yticks(range(len(top_values)), top_values.index)\n",
        "plt.xlabel('Values')\n",
        "plt.ylabel('Index')\n",
        "plt.title('The top five infant underlying causes of the child death')\n",
        "plt.show()"
      ],
      "metadata": {
        "id": "M-okAUyJDrDo",
        "colab": {
          "base_uri": "https://localhost:8080/",
          "height": 380
        },
        "outputId": "530843db-503b-45c2-f19b-734ae1ef85de"
      },
      "execution_count": 283,
      "outputs": [
        {
          "output_type": "display_data",
          "data": {
            "text/plain": [
              "<Figure size 1500x600 with 1 Axes>"
            ],
            "image/png": "[encoded data removed]"
          },
          "metadata": {}
        }
      ]
    },
    {
      "cell_type": "markdown",
      "source": [
        "# C. Plot the top five maternal factors contributing to the child death"
      ],
      "metadata": {
        "id": "00Mui8M5GOiX"
      }
    },
    {
      "cell_type": "code",
      "source": [
        "import matplotlib.pyplot as plt\n",
        "maternal_factors = df_renamed['Main maternal disease condition affecting the child/fetus']\n",
        "\n",
        "# Sort the values in descending order and select the top data points\n",
        "top_values = maternal_factors.sort_values(ascending=False).head(5)\n",
        "\n",
        "# Plot the top data points in a bar plot\n",
        "plt.figure(figsize=(2, 2))\n",
        "plt.barh(range(len(top_values)), top_values, align='center', color='blue')\n",
        "plt.yticks(range(len(top_values)), top_values.index)\n",
        "plt.xlabel('Values')\n",
        "plt.ylabel('Index')\n",
        "plt.title('The top five maternal factors contributing to the child death')\n",
        "plt.show()"
      ],
      "metadata": {
        "id": "gbhKv-rgFm02",
        "colab": {
          "base_uri": "https://localhost:8080/",
          "height": 256
        },
        "outputId": "a6490801-d439-4945-9aa6-e9ab00520f79"
      },
      "execution_count": 284,
      "outputs": [
        {
          "output_type": "display_data",
          "data": {
            "text/plain": [
              "<Figure size 200x200 with 1 Axes>"
            ],
            "image/png": "[encoded data removed]"
          },
          "metadata": {}
        }
      ]
    },
    {
      "cell_type": "code",
      "source": [
        "import matplotlib.pyplot as plt\n",
        "\n",
        "# Assuming 'data' is your DataFrame and 'target' is the target variable column\n",
        "plt.figure(figsize=(8, 6))\n",
        "df_renamed['case_type'].value_counts().plot(kind='bar', color='blue')\n",
        "plt.xlabel('Target Variable Categories')\n",
        "plt.ylabel('Count')\n",
        "plt.title('Distribution of Case type Variable')\n",
        "plt.show()"
      ],
      "metadata": {
        "id": "k5WKUjV4HOUW",
        "colab": {
          "base_uri": "https://localhost:8080/",
          "height": 733
        },
        "outputId": "ad0512ed-76ee-46f7-ae64-887eb454dc78"
      },
      "execution_count": 287,
      "outputs": [
        {
          "output_type": "display_data",
          "data": {
            "text/plain": [
              "<Figure size 800x600 with 1 Axes>"
            ],
            "image/png": "[encoded data removed]"
          },
          "metadata": {}
        }
      ]
    },
    {
      "cell_type": "code",
      "source": [],
      "metadata": {
        "id": "gqx2lbK3IaEm"
      },
      "execution_count": null,
      "outputs": []
    }
  ]
}